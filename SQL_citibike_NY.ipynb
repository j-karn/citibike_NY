{
  "nbformat": 4,
  "nbformat_minor": 0,
  "metadata": {
    "colab": {
      "provenance": []
    },
    "kernelspec": {
      "name": "python3",
      "display_name": "Python 3"
    },
    "language_info": {
      "name": "python"
    }
  },
  "cells": [
    {
      "cell_type": "markdown",
      "source": [
        "Using citybike_trips public data available in BigQuery, find out in 3 parts."
      ],
      "metadata": {
        "id": "oAXuJlzPYhEY"
      }
    },
    {
      "cell_type": "markdown",
      "source": [
        "### Part 1:\n",
        "\n",
        "*   Create Generation buckets based on the BirthYear Make a bucket for any missing years\n",
        "  *   silent: 1928 - 1945\n",
        "  *   boomer: 1946 - 1964\n",
        "  *   genx: 1965 - 1980\n",
        "  *   millennial: 1981 - 1996\n",
        "  *   genz: 1997 - 2010\n",
        "  *   genalpha: 2011 or later\n",
        "*   Convert trip distance from seconds to hours\n",
        "*   Convert lat/lon for start & stop stations into GEO points\n",
        "*   Filter out lat/lon where value is 0 or NULL\n",
        "*   Filter to year 2014"
      ],
      "metadata": {
        "id": "5wdKc73YZuL4"
      }
    },
    {
      "cell_type": "code",
      "source": [
        "SELECT birth_year\n",
        ",CASE\n",
        "  WHEN birth_year BETWEEN 1928 AND 1945\n",
        "    THEN 'silent'\n",
        "  WHEN birth_year BETWEEN 1946 AND 1964\n",
        "    THEN 'boomer'\n",
        "  WHEN birth_year BETWEEN 1965 AND 1980\n",
        "    THEN 'genx'\n",
        "  WHEN birth_year BETWEEN 1981 AND 1996\n",
        "    THEN 'millennial'\n",
        "  WHEN birth_year BETWEEN 1997 AND 2010\n",
        "    THEN 'genz'\n",
        "  WHEN birth_year > 2011\n",
        "    THEN 'genalpha'\n",
        "  ELSE 'z_missing value'\n",
        "END AS generation_buckets\n",
        "# -- convert tripduration from seconds to hours\n",
        ",SAFE_DIVIDE(tripduration, 3600) AS trip_time_hours\n",
        "# -- Convert lat/lon for start & stop stations into GEO points using ST_GEOGPOINT function\n",
        ",ST_GEOGPOINT(start_station_longitude, start_station_latitude) AS start_geo_point\n",
        ",ST_GEOGPOINT(end_station_longitude, end_station_latitude) AS end_geo_point\n",
        "FROM `bigquery-public-data.new_york_citibike.citibike_trips`\n",
        "WHERE\n",
        "(start_station_longitude IS NOT NULL\n",
        "OR start_station_latitude IS NOT NULL\n",
        "OR end_station_longitude IS NOT NULL\n",
        "OR end_station_latitude IS NOT NULL)\n",
        "AND\n",
        "(\n",
        "  ABS(start_station_latitude) != 0\n",
        "  AND ABS(start_station_longitude) != 0\n",
        "  AND ABS(end_station_latitude) != 0\n",
        "  AND ABS(end_station_longitude) != 0\n",
        ")\n",
        "AND EXTRACT (YEAR FROM starttime) = 2014\n",
        "AND start_station_id != end_station_id"
      ],
      "metadata": {
        "id": "P0UeRJTwZyan"
      },
      "execution_count": null,
      "outputs": []
    },
    {
      "cell_type": "markdown",
      "source": [
        "###Part 2:\n",
        "\n",
        "*   Calculate trip distance in metres & kilometres\n",
        "*   Calculate distance per hour"
      ],
      "metadata": {
        "id": "qj39H9rFaUdg"
      }
    },
    {
      "cell_type": "code",
      "source": [
        "SELECT birth_year\n",
        ",CASE\n",
        "    WHEN birth_year BETWEEN 1928 AND 1945\n",
        "      THEN 'silent'\n",
        "    WHEN birth_year BETWEEN 1946 AND 1964\n",
        "      THEN 'boomer'\n",
        "    WHEN birth_year BETWEEN 1965 AND 1980\n",
        "      THEN 'genx'\n",
        "    WHEN birth_year BETWEEN 1981 AND 1996\n",
        "      THEN 'millennial'\n",
        "    WHEN birth_year BETWEEN 1997 AND 2010\n",
        "      THEN 'genz'\n",
        "    WHEN birth_year > 2011\n",
        "      THEN 'genalpha'\n",
        "    ELSE 'z_missing value'\n",
        "  END AS generation_buckets\n",
        ",SAFE_DIVIDE(tripduration, 3600) AS trip_time_hours\n",
        ",ST_GEOGPOINT(start_station_longitude, start_station_latitude) AS start_geo_point\n",
        ",ST_GEOGPOINT(end_station_longitude, end_station_latitude) AS end_geo_point\n",
        "# -- calculating the trip distance in metres using ST_DISTANCE function\n",
        ",ST_DISTANCE(ST_GEOGPOINT(end_station_longitude, end_station_latitude), ST_GEOGPOINT(start_station_longitude, start_station_latitude)) AS trip_dist_metres\n",
        "# -- convert to kilometres\n",
        ",SAFE_DIVIDE(ST_DISTANCE(ST_GEOGPOINT(end_station_longitude, end_station_latitude), ST_GEOGPOINT(start_station_longitude, start_station_latitude)), 1000) AS trip_dist_kilometres\n",
        "# -- metres per hour\n",
        ",(ST_DISTANCE(ST_GEOGPOINT(end_station_longitude, end_station_latitude), ST_GEOGPOINT(start_station_longitude, start_station_latitude))) / SAFE_DIVIDE(tripduration, 3600) AS metres_per_hour\n",
        "# -- kilometres per hour\n",
        ",(SAFE_DIVIDE(ST_DISTANCE(ST_GEOGPOINT(end_station_longitude, end_station_latitude), ST_GEOGPOINT(start_station_longitude, start_station_latitude)), 1000)) / SAFE_DIVIDE(tripduration, 3600) AS kilometres_per_hour\n",
        "\n",
        "FROM `bigquery-public-data.new_york_citibike.citibike_trips`\n",
        "WHERE\n",
        "(start_station_longitude IS NOT NULL\n",
        "OR start_station_latitude IS NOT NULL\n",
        "OR end_station_longitude IS NOT NULL\n",
        "OR end_station_latitude IS NOT NULL)\n",
        "AND\n",
        "(\n",
        "  ABS(start_station_latitude) != 0\n",
        "  AND ABS(start_station_longitude) != 0\n",
        "  AND ABS(end_station_latitude) != 0\n",
        "  AND ABS(end_station_longitude) != 0\n",
        ")\n",
        "AND EXTRACT (YEAR FROM starttime) = 2014\n",
        "AND start_station_id != end_station_id"
      ],
      "metadata": {
        "id": "vHXsOdSMYhe4"
      },
      "execution_count": null,
      "outputs": []
    },
    {
      "cell_type": "markdown",
      "source": [
        "### Part 3:\n",
        "*   Caculate the following by generational type:\n",
        "  *   Total number of riders\n",
        "  *   Average ride time\n",
        "  *   Average trip distance\n",
        "  *   Average kilometres per hour"
      ],
      "metadata": {
        "id": "YWZWyzBpp4CH"
      }
    },
    {
      "cell_type": "code",
      "source": [
        "SELECT\n",
        "CASE\n",
        "    WHEN birth_year BETWEEN 1928 AND 1945\n",
        "      THEN 'silent'\n",
        "    WHEN birth_year BETWEEN 1946 AND 1964\n",
        "      THEN 'boomer'\n",
        "    WHEN birth_year BETWEEN 1965 AND 1980\n",
        "      THEN 'genx'\n",
        "    WHEN birth_year BETWEEN 1981 AND 1996\n",
        "      THEN 'millennial'\n",
        "    WHEN birth_year BETWEEN 1997 AND 2010\n",
        "      THEN 'genz'\n",
        "    WHEN birth_year > 2011\n",
        "      THEN 'genalpha'\n",
        "    ELSE 'z_missing value'\n",
        "  END AS generation_buckets\n",
        ",FORMAT(\"%'d\",COUNT(*)) AS total_riders\n",
        ",FORMAT(\"%'.2f\",SUM(tripduration / 3600) / COUNT(*)) AS average_ride_time_hours\n",
        ",FORMAT(\"%'.2f\",(SUM(ST_DISTANCE(ST_GEOGPOINT(end_station_longitude, end_station_latitude),ST_GEOGPOINT(start_station_longitude, start_station_latitude)))/ 1000) / COUNT(*)) AS average_trip_distance_kilometres\n",
        ",FORMAT(\"%'.2f\",(SUM(ST_DISTANCE(ST_GEOGPOINT(end_station_longitude, end_station_latitude),ST_GEOGPOINT(start_station_longitude, start_station_latitude)))/ 1000) / SUM(tripduration / 3600)) AS average_kilometres_per_hour\n",
        "\n",
        "FROM `bigquery-public-data.new_york_citibike.citibike_trips`\n",
        "\n",
        "WHERE\n",
        "(start_station_longitude IS NOT NULL\n",
        "OR start_station_latitude IS NOT NULL\n",
        "OR end_station_longitude IS NOT NULL\n",
        "OR end_station_latitude IS NOT NULL)\n",
        "AND\n",
        "(\n",
        "  ABS(start_station_latitude) != 0\n",
        "  AND ABS(start_station_longitude) != 0\n",
        "  AND ABS(end_station_latitude) != 0\n",
        "  AND ABS(end_station_longitude) != 0\n",
        ")\n",
        "AND EXTRACT (YEAR FROM starttime) = 2014\n",
        "AND start_station_id != end_station_id\n",
        "\n",
        "GROUP BY 1\n",
        "ORDER BY 1"
      ],
      "metadata": {
        "id": "Np14aOMWqBdG"
      },
      "execution_count": null,
      "outputs": []
    },
    {
      "cell_type": "markdown",
      "source": [
        "### Putting all together using CTEs"
      ],
      "metadata": {
        "id": "w69Aam9ip5wO"
      }
    },
    {
      "cell_type": "code",
      "source": [
        "WITH PART1 AS\n",
        "  (\n",
        "  SELECT birth_year\n",
        "  ,CASE\n",
        "    WHEN birth_year BETWEEN 1928 AND 1945\n",
        "      THEN 'silent'\n",
        "    WHEN birth_year BETWEEN 1946 AND 1964\n",
        "      THEN 'boomer'\n",
        "    WHEN birth_year BETWEEN 1965 AND 1980\n",
        "      THEN 'genx'\n",
        "    WHEN birth_year BETWEEN 1981 AND 1996\n",
        "      THEN 'millennial'\n",
        "    WHEN birth_year BETWEEN 1997 AND 2010\n",
        "      THEN 'genz'\n",
        "    WHEN birth_year > 2011\n",
        "      THEN 'genalpha'\n",
        "    ELSE 'z_missing value'\n",
        "  END AS generation_buckets\n",
        "  -- convert tripduration from seconds to hours\n",
        "  ,SAFE_DIVIDE(tripduration, 3600) AS trip_time_hours\n",
        "  ,ST_GEOGPOINT(start_station_longitude, start_station_latitude) AS start_geo_point\n",
        "  ,ST_GEOGPOINT(end_station_longitude, end_station_latitude) AS end_geo_point\n",
        "  FROM `bigquery-public-data.new_york_citibike.citibike_trips`\n",
        "  WHERE\n",
        "  (start_station_longitude IS NOT NULL\n",
        "  OR start_station_latitude IS NOT NULL\n",
        "  OR end_station_longitude IS NOT NULL\n",
        "  OR end_station_latitude IS NOT NULL)\n",
        "  AND\n",
        "  (\n",
        "    ABS(start_station_latitude) != 0\n",
        "    AND ABS(start_station_longitude) != 0\n",
        "    AND ABS(end_station_latitude) != 0\n",
        "    AND ABS(end_station_longitude) != 0\n",
        "  )\n",
        "  AND EXTRACT (YEAR FROM starttime) = 2014\n",
        "  AND start_station_id != end_station_id\n",
        "\n",
        "\n",
        ")\n",
        ", PART2 AS\n",
        "(\n",
        "  SELECT birth_year\n",
        "  ,generation_buckets\n",
        "  ,trip_time_hours\n",
        "  ,start_geo_point\n",
        "  ,end_geo_point\n",
        "  ,ST_DISTANCE(end_geo_point, start_geo_point) AS trip_dist_metres\n",
        "  ,SAFE_DIVIDE(ST_DISTANCE(end_geo_point, start_geo_point), 1000) AS trip_dist_kilometres\n",
        "  ,SAFE_DIVIDE(ST_DISTANCE(end_geo_point, start_geo_point) , trip_time_hours) AS metres_per_hour\n",
        "  ,SAFE_DIVIDE(SAFE_DIVIDE(ST_DISTANCE(end_geo_point, start_geo_point), 1000), trip_time_hours) AS kilometres_per_hour\n",
        "  FROM PART1\n",
        ")\n",
        "\n",
        "SELECT PART2.generation_buckets\n",
        ",FORMAT(\"%'d\",COUNT(PART2.generation_buckets)) AS total_riders\n",
        ",FORMAT(\"%'.2f\",AVG(PART2.trip_time_hours)) AS average_ride_time_hours\n",
        ",FORMAT(\"%'.2f\",AVG(PART2.trip_dist_kilometres)) AS average_distance_kilometres\n",
        ",FORMAT(\"%'.2f\",(SUM(PART2.trip_dist_kilometres) / SUM(PART2.trip_time_hours))) AS average_kilometres_per_hour\n",
        "FROM PART2\n",
        "GROUP BY 1\n",
        "ORDER BY 1"
      ],
      "metadata": {
        "id": "XVJ5cCvQ0RBR"
      },
      "execution_count": null,
      "outputs": []
    }
  ]
}