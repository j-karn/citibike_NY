{
  "nbformat": 4,
  "nbformat_minor": 0,
  "metadata": {
    "colab": {
      "provenance": []
    },
    "kernelspec": {
      "name": "python3",
      "display_name": "Python 3"
    },
    "language_info": {
      "name": "python"
    }
  },
  "cells": [
    {
      "cell_type": "markdown",
      "source": [
        "Using citybike_trips public data available in BigQuery, find out in 3 parts."
      ],
      "metadata": {
        "id": "nTa6QfA52V03"
      }
    },
    {
      "cell_type": "markdown",
      "source": [
        "### Part 1:\n",
        "\n",
        "*   Create Generation buckets based on the BirthYear Make a bucket for any missing years\n",
        "  *   silent: 1928 - 1945\n",
        "  *   boomer: 1946 - 1964\n",
        "  *   genx: 1965 - 1980\n",
        "  *   millennial: 1981 - 1996\n",
        "  *   genz: 1997 - 2010\n",
        "  *   genalpha: 2011 or later\n",
        "*   Convert trip distance from seconds to hours\n",
        "*   Convert lat/lon for start & stop stations into GEO points\n",
        "*   Filter out lat/lon where value is 0 or NULL\n",
        "*   Filter to year 2014"
      ],
      "metadata": {
        "id": "5wdKc73YZuL4"
      }
    },
    {
      "cell_type": "markdown",
      "source": [],
      "metadata": {
        "id": "cfHjjCe22JFA"
      }
    },
    {
      "cell_type": "code",
      "source": [
        "SELECT birth_year\n",
        ",CASE\n",
        "  WHEN birth_year BETWEEN 1928 AND 1945\n",
        "    THEN 'silent'\n",
        "  WHEN birth_year BETWEEN 1946 AND 1964\n",
        "    THEN 'boomer'\n",
        "  WHEN birth_year BETWEEN 1965 AND 1980\n",
        "    THEN 'genx'\n",
        "  WHEN birth_year BETWEEN 1981 AND 1996\n",
        "    THEN 'millennial'\n",
        "  WHEN birth_year BETWEEN 1997 AND 2010\n",
        "    THEN 'genz'\n",
        "  WHEN birth_year > 2011\n",
        "    THEN 'genalpha'\n",
        "  ELSE 'z_missing value'\n",
        "END AS generation_buckets\n",
        "# -- convert tripduration from seconds to hours\n",
        ",SAFE_DIVIDE(tripduration, 3600) AS trip_time_hours\n",
        "# -- Convert lat/lon for start & stop stations into GEO points using ST_GEOGPOINT function\n",
        ",ST_GEOGPOINT(start_station_longitude, start_station_latitude) AS start_geo_point\n",
        ",ST_GEOGPOINT(end_station_longitude, end_station_latitude) AS end_geo_point\n",
        "FROM `bigquery-public-data.new_york_citibike.citibike_trips`\n",
        "WHERE\n",
        "(start_station_longitude IS NOT NULL\n",
        "OR start_station_latitude IS NOT NULL\n",
        "OR end_station_longitude IS NOT NULL\n",
        "OR end_station_latitude IS NOT NULL)\n",
        "AND\n",
        "(\n",
        "  ABS(start_station_latitude) != 0\n",
        "  AND ABS(start_station_longitude) != 0\n",
        "  AND ABS(end_station_latitude) != 0\n",
        "  AND ABS(end_station_longitude) != 0\n",
        ")\n",
        "AND EXTRACT (YEAR FROM starttime) = 2014\n",
        "AND start_station_id != end_station_id"
      ],
      "metadata": {
        "id": "P0UeRJTwZyan"
      },
      "execution_count": null,
      "outputs": []
    },
    {
      "cell_type": "markdown",
      "source": [
        "###Part 2:\n",
        "\n",
        "*   Calculate trip distance in metres & kilometres\n",
        "*   Calculate distance per hour"
      ],
      "metadata": {
        "id": "qj39H9rFaUdg"
      }
    },
    {
      "cell_type": "code",
      "source": [
        "SELECT birth_year\n",
        ",CASE\n",
        "    WHEN birth_year BETWEEN 1928 AND 1945\n",
        "      THEN 'silent'\n",
        "    WHEN birth_year BETWEEN 1946 AND 1964\n",
        "      THEN 'boomer'\n",
        "    WHEN birth_year BETWEEN 1965 AND 1980\n",
        "      THEN 'genx'\n",
        "    WHEN birth_year BETWEEN 1981 AND 1996\n",
        "      THEN 'millennial'\n",
        "    WHEN birth_year BETWEEN 1997 AND 2010\n",
        "      THEN 'genz'\n",
        "    WHEN birth_year > 2011\n",
        "      THEN 'genalpha'\n",
        "    ELSE 'z_missing value'\n",
        "  END AS generation_buckets\n",
        ",SAFE_DIVIDE(tripduration, 3600) AS trip_time_hours\n",
        ",ST_GEOGPOINT(start_station_longitude, start_station_latitude) AS start_geo_point\n",
        ",ST_GEOGPOINT(end_station_longitude, end_station_latitude) AS end_geo_point\n",
        "# -- calculating the trip distance in metres using ST_DISTANCE function\n",
        ",ST_DISTANCE(ST_GEOGPOINT(end_station_longitude, end_station_latitude), ST_GEOGPOINT(start_station_longitude, start_station_latitude)) AS trip_dist_metres\n",
        "# -- convert to kilometres\n",
        ",SAFE_DIVIDE(ST_DISTANCE(ST_GEOGPOINT(end_station_longitude, end_station_latitude), ST_GEOGPOINT(start_station_longitude, start_station_latitude)), 1000) AS trip_dist_kilometres\n",
        "# -- metres per hour\n",
        ",(ST_DISTANCE(ST_GEOGPOINT(end_station_longitude, end_station_latitude), ST_GEOGPOINT(start_station_longitude, start_station_latitude))) / SAFE_DIVIDE(tripduration, 3600) AS metres_per_hour\n",
        "# -- kilometres per hour\n",
        ",(SAFE_DIVIDE(ST_DISTANCE(ST_GEOGPOINT(end_station_longitude, end_station_latitude), ST_GEOGPOINT(start_station_longitude, start_station_latitude)), 1000)) / SAFE_DIVIDE(tripduration, 3600) AS kilometres_per_hour\n",
        "\n",
        "FROM `bigquery-public-data.new_york_citibike.citibike_trips`\n",
        "WHERE\n",
        "(start_station_longitude IS NOT NULL\n",
        "OR start_station_latitude IS NOT NULL\n",
        "OR end_station_longitude IS NOT NULL\n",
        "OR end_station_latitude IS NOT NULL)\n",
        "AND\n",
        "(\n",
        "  ABS(start_station_latitude) != 0\n",
        "  AND ABS(start_station_longitude) != 0\n",
        "  AND ABS(end_station_latitude) != 0\n",
        "  AND ABS(end_station_longitude) != 0\n",
        ")\n",
        "AND EXTRACT (YEAR FROM starttime) = 2014\n",
        "AND start_station_id != end_station_id"
      ],
      "metadata": {
        "id": "vHXsOdSMYhe4"
      },
      "execution_count": null,
      "outputs": []
    },
    {
      "cell_type": "markdown",
      "source": [
        "### Part 3:\n",
        "*   Caculate the following by generational type:\n",
        "  *   Total number of riders\n",
        "  *   Average ride time\n",
        "  *   Average trip distance\n",
        "  *   Average kilometres per hour"
      ],
      "metadata": {
        "id": "YWZWyzBpp4CH"
      }
    },
    {
      "cell_type": "code",
      "source": [
        "SELECT\n",
        "CASE\n",
        "    WHEN birth_year BETWEEN 1928 AND 1945\n",
        "      THEN 'silent'\n",
        "    WHEN birth_year BETWEEN 1946 AND 1964\n",
        "      THEN 'boomer'\n",
        "    WHEN birth_year BETWEEN 1965 AND 1980\n",
        "      THEN 'genx'\n",
        "    WHEN birth_year BETWEEN 1981 AND 1996\n",
        "      THEN 'millennial'\n",
        "    WHEN birth_year BETWEEN 1997 AND 2010\n",
        "      THEN 'genz'\n",
        "    WHEN birth_year > 2011\n",
        "      THEN 'genalpha'\n",
        "    ELSE 'z_missing value'\n",
        "  END AS generation_buckets\n",
        ",FORMAT(\"%'d\",COUNT(*)) AS total_riders\n",
        ",FORMAT(\"%'.2f\",SUM(tripduration / 3600) / COUNT(*)) AS average_ride_time_hours\n",
        ",FORMAT(\"%'.2f\",(SUM(ST_DISTANCE(ST_GEOGPOINT(end_station_longitude, end_station_latitude),ST_GEOGPOINT(start_station_longitude, start_station_latitude)))/ 1000) / COUNT(*)) AS average_trip_distance_kilometres\n",
        ",FORMAT(\"%'.2f\",(SUM(ST_DISTANCE(ST_GEOGPOINT(end_station_longitude, end_station_latitude),ST_GEOGPOINT(start_station_longitude, start_station_latitude)))/ 1000) / SUM(tripduration / 3600)) AS average_kilometres_per_hour\n",
        "\n",
        "FROM `bigquery-public-data.new_york_citibike.citibike_trips`\n",
        "\n",
        "WHERE\n",
        "(start_station_longitude IS NOT NULL\n",
        "OR start_station_latitude IS NOT NULL\n",
        "OR end_station_longitude IS NOT NULL\n",
        "OR end_station_latitude IS NOT NULL)\n",
        "AND\n",
        "(\n",
        "  ABS(start_station_latitude) != 0\n",
        "  AND ABS(start_station_longitude) != 0\n",
        "  AND ABS(end_station_latitude) != 0\n",
        "  AND ABS(end_station_longitude) != 0\n",
        ")\n",
        "AND EXTRACT (YEAR FROM starttime) = 2014\n",
        "AND start_station_id != end_station_id\n",
        "\n",
        "GROUP BY 1\n",
        "ORDER BY 1"
      ],
      "metadata": {
        "id": "Np14aOMWqBdG"
      },
      "execution_count": null,
      "outputs": []
    },
    {
      "cell_type": "markdown",
      "source": [
        "### Putting all together using CTEs"
      ],
      "metadata": {
        "id": "w69Aam9ip5wO"
      }
    },
    {
      "cell_type": "code",
      "source": [
        "WITH PART1 AS\n",
        "  (\n",
        "  SELECT birth_year\n",
        "  ,CASE\n",
        "    WHEN birth_year BETWEEN 1928 AND 1945\n",
        "      THEN 'silent'\n",
        "    WHEN birth_year BETWEEN 1946 AND 1964\n",
        "      THEN 'boomer'\n",
        "    WHEN birth_year BETWEEN 1965 AND 1980\n",
        "      THEN 'genx'\n",
        "    WHEN birth_year BETWEEN 1981 AND 1996\n",
        "      THEN 'millennial'\n",
        "    WHEN birth_year BETWEEN 1997 AND 2010\n",
        "      THEN 'genz'\n",
        "    WHEN birth_year > 2011\n",
        "      THEN 'genalpha'\n",
        "    ELSE 'z_missing value'\n",
        "  END AS generation_buckets\n",
        "  -- convert tripduration from seconds to hours\n",
        "  ,SAFE_DIVIDE(tripduration, 3600) AS trip_time_hours\n",
        "  ,ST_GEOGPOINT(start_station_longitude, start_station_latitude) AS start_geo_point\n",
        "  ,ST_GEOGPOINT(end_station_longitude, end_station_latitude) AS end_geo_point\n",
        "  FROM `bigquery-public-data.new_york_citibike.citibike_trips`\n",
        "  WHERE\n",
        "  (start_station_longitude IS NOT NULL\n",
        "  OR start_station_latitude IS NOT NULL\n",
        "  OR end_station_longitude IS NOT NULL\n",
        "  OR end_station_latitude IS NOT NULL)\n",
        "  AND\n",
        "  (\n",
        "    ABS(start_station_latitude) != 0\n",
        "    AND ABS(start_station_longitude) != 0\n",
        "    AND ABS(end_station_latitude) != 0\n",
        "    AND ABS(end_station_longitude) != 0\n",
        "  )\n",
        "  AND EXTRACT (YEAR FROM starttime) = 2014\n",
        "  AND start_station_id != end_station_id\n",
        "\n",
        "\n",
        ")\n",
        ", PART2 AS\n",
        "(\n",
        "  SELECT birth_year\n",
        "  ,generation_buckets\n",
        "  ,trip_time_hours\n",
        "  ,start_geo_point\n",
        "  ,end_geo_point\n",
        "  ,ST_DISTANCE(end_geo_point, start_geo_point) AS trip_dist_metres\n",
        "  ,SAFE_DIVIDE(ST_DISTANCE(end_geo_point, start_geo_point), 1000) AS trip_dist_kilometres\n",
        "  ,SAFE_DIVIDE(ST_DISTANCE(end_geo_point, start_geo_point) , trip_time_hours) AS metres_per_hour\n",
        "  ,SAFE_DIVIDE(SAFE_DIVIDE(ST_DISTANCE(end_geo_point, start_geo_point), 1000), trip_time_hours) AS kilometres_per_hour\n",
        "  FROM PART1\n",
        ")\n",
        "\n",
        "SELECT PART2.generation_buckets\n",
        ",FORMAT(\"%'d\",COUNT(PART2.generation_buckets)) AS total_riders\n",
        ",FORMAT(\"%'.2f\",AVG(PART2.trip_time_hours)) AS average_ride_time_hours\n",
        ",FORMAT(\"%'.2f\",AVG(PART2.trip_dist_kilometres)) AS average_distance_kilometres\n",
        ",FORMAT(\"%'.2f\",(SUM(PART2.trip_dist_kilometres) / SUM(PART2.trip_time_hours))) AS average_kilometres_per_hour\n",
        "FROM PART2\n",
        "GROUP BY 1\n",
        "ORDER BY 1"
      ],
      "metadata": {
        "id": "XVJ5cCvQ0RBR"
      },
      "execution_count": null,
      "outputs": []
    },
    {
      "cell_type": "markdown",
      "source": [
        "![Capture_sql_cte.JPG](data:image/jpeg;base64,/9j/4AAQSkZJRgABAQEAwADAAAD/4QLaRXhpZgAATU0AKgAAAAgABAE7AAIAAAAFAAABSodpAAQAAAABAAABUJydAAEAAAAKAAACyOocAAcAAAEMAAAAPgAAAAAc6gAAAAEAAAAAAAAAAAAAAAAAAAAAAAAAAAAAAAAAAAAAAAAAAAAAAAAAAAAAAAAAAAAAAAAAAAAAAAAAAAAAAAAAAAAAAAAAAAAAAAAAAAAAAAAAAAAAAAAAAAAAAAAAAAAAAAAAAAAAAAAAAAAAAAAAAAAAAAAAAAAAAAAAAAAAAAAAAAAAAAAAAAAAAAAAAAAAAAAAAAAAAAAAAAAAAAAAAAAAAAAAAAAAAAAAAAAAAAAAAAAAAAAAAAAAAAAAAAAAAAAAAAAAAAAAAAAAAAAAAAAAAAAAAAAAAAAAAAAAAAAAAAAAAAAAAAAAAAAAAAAAAAAAAAAAAAAAAAAAAAAAAAAAAAAAAAAAdXNlcgAAAAWQAwACAAAAFAAAAp6QBAACAAAAFAAAArKSkQACAAAAAzU0AACSkgACAAAAAzU0AADqHAAHAAABDAAAAZIAAAAAHOoAAAABAAAAAAAAAAAAAAAAAAAAAAAAAAAAAAAAAAAAAAAAAAAAAAAAAAAAAAAAAAAAAAAAAAAAAAAAAAAAAAAAAAAAAAAAAAAAAAAAAAAAAAAAAAAAAAAAAAAAAAAAAAAAAAAAAAAAAAAAAAAAAAAAAAAAAAAAAAAAAAAAAAAAAAAAAAAAAAAAAAAAAAAAAAAAAAAAAAAAAAAAAAAAAAAAAAAAAAAAAAAAAAAAAAAAAAAAAAAAAAAAAAAAAAAAAAAAAAAAAAAAAAAAAAAAAAAAAAAAAAAAAAAAAAAAAAAAAAAAAAAAAAAAAAAAAAAAAAAAAAAAAAAAAAAAAAAAAAAAAAAAAAAAAAAAADIwMjQ6MDQ6MTggMTY6MTU6MzYAMjAyNDowNDoxOCAxNjoxNTozNgAAAHUAcwBlAHIAAAD/4QQXaHR0cDovL25zLmFkb2JlLmNvbS94YXAvMS4wLwA8P3hwYWNrZXQgYmVnaW49J++7vycgaWQ9J1c1TTBNcENlaGlIenJlU3pOVGN6a2M5ZCc/Pg0KPHg6eG1wbWV0YSB4bWxuczp4PSJhZG9iZTpuczptZXRhLyI+PHJkZjpSREYgeG1sbnM6cmRmPSJodHRwOi8vd3d3LnczLm9yZy8xOTk5LzAyLzIyLXJkZi1zeW50YXgtbnMjIj48cmRmOkRlc2NyaXB0aW9uIHJkZjphYm91dD0idXVpZDpmYWY1YmRkNS1iYTNkLTExZGEtYWQzMS1kMzNkNzUxODJmMWIiIHhtbG5zOmRjPSJodHRwOi8vcHVybC5vcmcvZGMvZWxlbWVudHMvMS4xLyIvPjxyZGY6RGVzY3JpcHRpb24gcmRmOmFib3V0PSJ1dWlkOmZhZjViZGQ1LWJhM2QtMTFkYS1hZDMxLWQzM2Q3NTE4MmYxYiIgeG1sbnM6eG1wPSJodHRwOi8vbnMuYWRvYmUuY29tL3hhcC8xLjAvIj48eG1wOkNyZWF0ZURhdGU+MjAyNC0wNC0xOFQxNjoxNTozNi41MzU8L3htcDpDcmVhdGVEYXRlPjwvcmRmOkRlc2NyaXB0aW9uPjxyZGY6RGVzY3JpcHRpb24gcmRmOmFib3V0PSJ1dWlkOmZhZjViZGQ1LWJhM2QtMTFkYS1hZDMxLWQzM2Q3NTE4MmYxYiIgeG1sbnM6ZGM9Imh0dHA6Ly9wdXJsLm9yZy9kYy9lbGVtZW50cy8xLjEvIj48ZGM6Y3JlYXRvcj48cmRmOlNlcSB4bWxuczpyZGY9Imh0dHA6Ly93d3cudzMub3JnLzE5OTkvMDIvMjItcmRmLXN5bnRheC1ucyMiPjxyZGY6bGk+dXNlcjwvcmRmOmxpPjwvcmRmOlNlcT4NCgkJCTwvZGM6Y3JlYXRvcj48L3JkZjpEZXNjcmlwdGlvbj48L3JkZjpSREY+PC94OnhtcG1ldGE+DQogICAgICAgICAgICAgICAgICAgICAgICAgICAgICAgICAgICAgICAgICAgICAgICAgICAgICAgICAgICAgICAgICAgICAgICAgICAgICAgICAgICAgICAgICAgICAgICAgICAgCiAgICAgICAgICAgICAgICAgICAgICAgICAgICAgICAgICAgICAgICAgICAgICAgICAgICAgICAgICAgICAgICAgICAgICAgICAgICAgICAgICAgICAgICAgICAgICAgICAgICAKICAgICAgICAgICAgICAgICAgICAgICAgICAgICAgICAgICAgICAgICAgICAgICAgICAgICAgPD94cGFja2V0IGVuZD0ndyc/Pv/bAEMABwUFBgUEBwYFBggHBwgKEQsKCQkKFQ8QDBEYFRoZGBUYFxseJyEbHSUdFxgiLiIlKCkrLCsaIC8zLyoyJyorKv/bAEMBBwgICgkKFAsLFCocGBwqKioqKioqKioqKioqKioqKioqKioqKioqKioqKioqKioqKioqKioqKioqKioqKioqKv/AABEIAN4ELAMBIgACEQEDEQH/xAAfAAABBQEBAQEBAQAAAAAAAAAAAQIDBAUGBwgJCgv/xAC1EAACAQMDAgQDBQUEBAAAAX0BAgMABBEFEiExQQYTUWEHInEUMoGRoQgjQrHBFVLR8CQzYnKCCQoWFxgZGiUmJygpKjQ1Njc4OTpDREVGR0hJSlNUVVZXWFlaY2RlZmdoaWpzdHV2d3h5eoOEhYaHiImKkpOUlZaXmJmaoqOkpaanqKmqsrO0tba3uLm6wsPExcbHyMnK0tPU1dbX2Nna4eLj5OXm5+jp6vHy8/T19vf4+fr/xAAfAQADAQEBAQEBAQEBAAAAAAAAAQIDBAUGBwgJCgv/xAC1EQACAQIEBAMEBwUEBAABAncAAQIDEQQFITEGEkFRB2FxEyIygQgUQpGhscEJIzNS8BVictEKFiQ04SXxFxgZGiYnKCkqNTY3ODk6Q0RFRkdISUpTVFVWV1hZWmNkZWZnaGlqc3R1dnd4eXqCg4SFhoeIiYqSk5SVlpeYmZqio6Slpqeoqaqys7S1tre4ubrCw8TFxsfIycrS09TV1tfY2dri4+Tl5ufo6ery8/T19vf4+fr/2gAMAwEAAhEDEQA/APo3yn/57yfkv+FHlP8A895PyX/CpKKAI/Kf/nvJ+S/4UeU//PeT8l/wqSigCPyn/wCe8n5L/hR5T/8APeT8l/wqSigCPyn/AOe8n5L/AIUeU/8Az3k/Jf8ACpKKAI/Kf/nvJ+S/4UeU/wDz3k/Jf8KkooAj8p/+e8n5L/hR5T/895PyX/CpKKAI/Kf/AJ7yfkv+FHlP/wA95PyX/CpKKAI/Kf8A57yfkv8AhR5T/wDPeT8l/wAKkooAj8p/+e8n5L/hR5T/APPeT8l/wqSigCPyn/57yfkv+FHlP/z3k/Jf8KkooAj8p/8AnvJ+S/4UeU//AD3k/Jf8KkooAj8p/wDnvJ+S/wCFHlP/AM95PyX/AAqSigCPyn/57yfkv+FHlP8A895PyX/CpKKAI/Kf/nvJ+S/4UeU//PeT8l/wqSigCPyn/wCe8n5L/hR5T/8APeT8l/wqSigCPyn/AOe8n5L/AIUeU/8Az3k/Jf8ACpKKAI/Kf/nvJ+S/4UeU/wDz3k/Jf8KkooAj8p/+e8n5L/hR5T/895PyX/CpKKAI/Kf/AJ7yfkv+FHlP/wA95PyX/CpKKAI/Kf8A57yfkv8AhR5T/wDPeT8l/wAKkooAj8p/+e8n5L/hR5T/APPeT8l/wqSigCPyn/57yfkv+FHlP/z3k/Jf8KkooAj8p/8AnvJ+S/4UeU//AD3k/Jf8KkooAj8p/wDnvJ+S/wCFHlP/AM95PyX/AAqSigCPyn/57yfkv+FHlP8A895PyX/CpKKAI/Kf/nvJ+S/4UeU//PeT8l/wqSigCPyn/wCe8n5L/hR5T/8APeT8l/wqSigCPyn/AOe8n5L/AIUeU/8Az3k/Jf8ACpKKAI/Kf/nvJ+S/4UeU/wDz3k/Jf8KkooAj8p/+e8n5L/hR5T/895PyX/CpKKAI/Kf/AJ7yfkv+FHlP/wA95PyX/CpKKAI/Kf8A57yfkv8AhR5T/wDPeT8l/wAKkooAj8p/+e8n5L/hR5T/APPeT8l/wqSigCPyn/57yfkv+FHlP/z3k/Jf8KkooAj8p/8AnvJ+S/4UeU//AD3k/Jf8KkooAj8p/wDnvJ+S/wCFHlP/AM95PyX/AAqSigCPyn/57yfkv+FHlP8A895PyX/CpKKAI/Kf/nvJ+S/4UeU//PeT8l/wqSigCPyn/wCe8n5L/hR5T/8APeT8l/wqSigCPyn/AOe8n5L/AIUeU/8Az3k/Jf8ACpKKAI/Kf/nvJ+S/4UeU/wDz3k/Jf8KkooAj8p/+e8n5L/hR5T/895PyX/CpKKAI/Kf/AJ7yfkv+FHlP/wA95PyX/CpKKAI/Kf8A57yfkv8AhR5T/wDPeT8l/wAKkooAj8p/+e8n5L/hR5T/APPeT8l/wqSigCPyn/57yfkv+FHlP/z3k/Jf8KkooAj8p/8AnvJ+S/4UeU//AD3k/Jf8KkooAj8p/wDnvJ+S/wCFHlP/AM95PyX/AAqSigCPyn/57yfkv+FHlP8A895PyX/CpKKAI/Kf/nvJ+S/4UeU//PeT8l/wqSigCPyn/wCe8n5L/hR5T/8APeT8l/wqSigCPyn/AOe8n5L/AIUeU/8Az3k/Jf8ACpKKAI/Kf/nvJ+S/4UeU/wDz3k/Jf8KkooAj8p/+e8n5L/hR5T/895PyX/CpKKAI/Kf/AJ7yfkv+FHlP/wA95PyX/CpKKAI/Kf8A57yfkv8AhR5T/wDPeT8l/wAKkooAj8p/+e8n5L/hR5T/APPeT8l/wqSigCPyn/57yfkv+FHlP/z3k/Jf8KkooAj8p/8AnvJ+S/4UeU//AD3k/Jf8KkooAj8p/wDnvJ+S/wCFHlP/AM95PyX/AAqSigCPyn/57yfkv+FHlP8A895PyX/CpKKAI/Kf/nvJ+S/4UeU//PeT8l/wqSigCPyn/wCe8n5L/hR5T/8APeT8l/wqSigCPyn/AOe8n5L/AIUeU/8Az3k/Jf8ACpKKAI/Kf/nvJ+S/4UeU/wDz3k/Jf8KkooAj8p/+e8n5L/hR5T/895PyX/CpKKAI/Kf/AJ7yfkv+FHlP/wA95PyX/CpKKACiiigBsjrFG0jnCqCxOM8CuM1fUftviSxvdCkW5k/sW8lgKc5J8vZx7kd67Wq1rptjYySyWNlb2zzHMjQxKhc+pIHNJq/9eQ72OJsYtPtf+EYvNEkV9QvZUF26SlnnQxMZDJ64YDk9DxxWdotsLWbRLz7DaWfm6nIhvLWXNxcZaQbHTavy+p3NjA49PRoNMsLW6lubWyt4bib/AFkscSq7/UgZNRW2haTZXZurPS7K3uGyTNFbornPX5gM0/tX/rpoTbS3l/TMHxT/AMjPp/8A2Db7/wBBSubtpZ9OtvCWj3ZeSKS8trmymYZyhjbfGT6qWGP9lh6V6XLaW08qyT28UkiqyK7oCQrfeAJ7HAyO9I1jaOkCPawstsQ0CmMEREDAK/3cDjiiOjv6fg2/1HLVW8n+KscT4R0s+TJfpoOltItzdmPUN+bgsJZAPl8v8Pv9PyqrZJaR6LoGqWUgbX7q6hW5cSEyykt++RxnkAbuD93HbFehwW8NtH5dtFHCm4ttjUKMk5JwO5JJ/GoY9MsIb572Kyt0upBh51iUSN9Wxk01o/u/r5g9b/M83gsj9uimGn2loZ9emQavHIfOBEzHYyhRw23YMsRz0qfTb+40RtWS3JL6xe3KWmckLcicp/6CVb6I1ehtp9k1u0DWkBhaTzGjMQ2l927cRjGc859eaBYWa7NtpAPLkMyYjHyuc5YejHJyevJqUrJJ/wBbf5Dbu213v+f+Z5xayQWHgOLQR55S81S4tX8qN5ZPISVvMOFBY5UY4H8VTXYstZ+Fuom/tEnvdHiltklurfEqbfuthwGUsmw9q9Ai06ygmWWCzt45F3kOkSgjectyB3PJ9TSvp9nKLgSWkDi6AE4aIHzQBgbuPm445qlpv/X9fqHW/wDX9f5HK3unWuk+LPD8Wj2UFqDDeOI4Igis/lpzgd+BWVZJaR6LoGqWUgbX7q6hW5cSEyykt++RxnkAbuD93HbFehvbQSTxTvDG0sIIjkKAsgPXB7ZxUMemWEN897FZW6XUgw86xKJG+rYyaE9U/wCt/wBSbe7Y8w1KafSPCfiKV2eTT9SubyJh1+zziRgp/wB1gMexA9a9Vt/+PaL/AHB/Ko30+ye0ktXs4Gt5WLSQmJSjknJJGMEk81YAAAAGAOgFJaRsU9Xf1/EKKKKBBRRRQAV5j4ntg+reJrltLtbgRtbqb2SQrLZ5jUeYoCkkDOThh0r06oTZ2refutoT9pGJ8xj96MYw3rxxz2row9b2MnK39XT/AEInHmVjh7fSku/F2rLcaVpuriP7Mr3F9IA4HlLkqNjZz16iq2rx2dvqWqarceTqEEV2ivMk7Q3lgw2jYgIwy9wARnJ612s3hvQ7hw9xo2nysFChntUYgAYA5HQAAVPLpOnT3qXk1hayXMeNk7wqXXHTDYyK6FioqSeuyX3W8/Lpb5mfs3a39f195w99cQx+D/GcEkqrMb2YCMnDEsqbePftW9oscU2teI4LlEeOSaJXjcAhgYVyCDW1LpWnz3yXk9hayXUeNk7wqXXHTDEZFRz6DpF1dm6utKsZrgkEzSWyM5I6fMRms3Xg48uuv/2v+RXI07rv+d/8zl9J0bSLW+8TTpZ29obS4IhuIrcbrZfs6ElMDI6k4FQeF4bXTNb0yBobczXVs5ivrC4JW8UAEtMhGQ3fOTzkZruo7eGGSV4oY0eZt0jKoBc4xk+pwAPwqC10rTrGeSaysLW2lk+/JDCqM/1IHNP6zdNSvqkvuVv+D/Vxez7d2/xuW6KKK4jYKKKKACszxJNdW/hfU5tO3fao7WRodoyQwU4x71p0Umrqw07O5xtpZeH7OKzl0y48u7urORiIHL/ax5eS0p5zg4O44OeM84rKgm1RvC3hBLmytI7QXFlsmju2d2+XjKGMAZ/3jj3rvbfStPtJJpLWwtoHn/1rRwqpk/3iBz+NP+w2nkQw/ZYfKtyphj8sbYyv3So7Y7Y6VV9b+af3Nk2923k/xPPtQ15F8ZvrYN15Wn3S2A220hiMJyJWMgXYMOw6n/ln71V1Wz8zUtbuBp9qm/V44RrHmET2ZKRYYALyoJH8Q5bkYr0oWFmLJ7MWkH2ZwQ0HljYwPJyvQ5yc0h06yNvNAbO3MNwczR+Uu2TgD5hjngAc9gKUdP69P8vxG9f69f6+Ry114b0SX4hWqS6RYusunzzSBrZCHfzY/nPHJ5PPua7LpUf2aDz1n8mPzkQxrJsG5VOCVB7DgcewqSn0S/rcOtwooopAFFFFABXJ+ItRtNQuNCFlOsrR62iOo+8GRXDDB54rrKrLptimoNfJZW63jDa1wIlEhHoWxmjqmHRr+tThdPjtLLVLO9kEN6LvUGSHVLedkuSzM37uWNhkqPu4zxgfKKgRYP8AhGINYVl/4Sc3yoz+YfNMnn7WiI/u7cjb0xz71366Vp6ag18lhbLeMMNcCFRIf+BYzSjTLAagb4WVuLwjBuPKXzMem7GaFpYHrc871OWfSbXxZfgvJYXc9xbXCAZ8lzEBHIPYk7T9VPau/wBC/wCRd07/AK9Yv/QBVhrG0aGeJrWEx3BJmQxjbKSMHcO+R61LHGkUaxxKqIgCqqjAUDoAKI6Rt6fgJ6u/r+Nv8h1FFFAwooooAK4a/wBNXUPiBqW/RNL1QJaW2TfybfKyZPu/u3znHPToK7ms+90DR9SuPP1HSbG7mwF8ye2R2x6ZIzQHQ4zxSsVr4ia1s2eLTLqOIa35K/LDHuCoc54LD5WwPujPap49HgvPGmsg6BpF/BHLbp5l24Vol8lOEXy2yMe4rs102xWKeJbO3EdwMTIIlxKMY+YY54457VVuPDWhXc3m3Wi6dNJgLvktEY4AwBkjsABQtBnLvb6ReTeIbvxHP5NzZ3TJFPvIltYgilDEO2ck8Dk+vSpvtUFvH4zFxOEOwSfvflYqbZQGx7kEfWurm0ywubuK6uLG2luIf9XNJCrOn0JGRRc6Xp97cRXF5Y21xND/AKuSWFWZPoSMipavHl8rf8EE7O5xt9oGlzv4Se70u1kmuJEjuGkgUtIBavw2RzgqOD6Cq2sZ07UfEkdgPssEcGnRv5PyeVBvYORj7oCZ5HSvQZLeGaSJ5oo5HhbfGzKCUbBGR6HBI/GkFrbiaWYQRCWZQsr7BucDOAT3AyevrVydyYqyt5WOC1a3sdNn1G08PCNLOXQ7qW7igfKBgB5bkdAxy/PU49qghlnsNV8KaJeM8gjuRPZztz5kJgcFSf7yEgfQqfWu+t9J060tpba10+1hgmz5sUcKqsmeDuAGDn3qV7O1kaBntoWa3OYSYwfKOMfL6cccUlp+H5tjeqt6/kl+hzOt2Gnah46sY9Xt4JoE0ydx54BCESRfMCeh5PNc7FFLqreHknsrXV4wb8W66jKQskKuojYsUfJ24wcc+tehXukabqUkcmo6da3bxf6tp4Fcp9CRxRe6PpmppGupadaXaxZ8sTwLIE+mRx0H5UdEv66/5jvrf+trHK+J/D2lDw5YvJounQTLd2sW2GJWVFaddyK20ZU7m7DOTxVDxa1tBfRaVpFtLbrpEJvoYrGzkZPtJbMany1IUEB85wPmru49MsIbJLOGxto7aNg6QLCoRWDbgQuMA55+vNTR20EMsssUMaSTENK6oAXIGASe/HHNP073/r8xev8AX9bHn3iK/i1SaS/tjmK58LXMi+wLIcV0uvCObwb5T362QkSJBMQSuSV+VtvIVvuk5HBrUGkaaqbF0+1C+W0W0QLjYxyy9OhPJHQ0y00HSLBZRY6VZWwmXbIIbdE3j0OByKXS39bt/qO+39dF/kYnhQW9pq1/p6WMNhcRRxSSQ2c/mWzBt2GUYG1jg5GPTrXVVWstOstNhMWnWdvaRk5KQRKgJ9cAVZpiCiiikAUUUUAc549TzPCcieVHNuubceXKcK/75ODweD9DWXqumW2m+F5p10nT9I1COdHsl0xhIZJxxGPuJnJJUj0J5rsbuztr+2a3vreK5gfG6KZA6tg55B4qra6Bo9kytZaTY25Vw6mK2RMNgjdwOuCRn3NCHc4aSEXfhGGS5t4rrU7rWIhqMF18qmYPjy24bCAYA4PGD3rS1Cxis7fSLOfTbDSrG71Hbew2Mn7qQeW2wMwROrBRjHPArq7jSNNu1mW7060nWdg0olgVhIwGAWyOSB0zTYNE0q1s5bS10yzhtpjmSGO3VUc+6gYNC0/r0/yF1/rz/wAzlL6PSNOkhj0q4K21vrFqZoQf3NsxGMKcYGcgkZwCe2avw2dhrHjLXYry2gvbdbe0UrKgkQOPNOOeMgMPzroY9NsYrE2UVlbpaEYNusSiMj024xTrOxtNPtxBYWsNrCDkRwxhFB+g4o6Nf1sv8g63/re553a6ZYWnw50S6tbK3huJ7yz82WOIK0n79epHJqxfx2VxY+Jr/VZFXWLKeUWjmQiSABQYfLGeM8Hj7xJ613f9n2f2WO2+yQeREQ0cXlDahByCBjAweRTZtMsLi8ju7iyt5bmL/VzPErOn0YjIo/4P6f5Dvrf+uv8AmcSJr6w8UX2uNvY29paDULdRndGyMWYD+8h5+m4VY0We6i+Cyz6YW+0rYytEUHzA5bBHvXaC3hWWSVYYxJKAJHCjLgdAT3xk0lvbQWdukFpDHBCgwkcSBVUewHAo6Nd/+CKOjTOGji07TtT0/wDsiCFYL6zlH2i3vMtcYj3Eypt+bkcNuzk/hWf4St1sbzw/LJY2mkJ/ZZuWuLaQn7evlgEONqgMMhznd7HrXoVvpGm2k0strp9rDJN/rXjgVWk/3iBz+NOl0rT5raK3msLaSGFdsUTwqVjG3bgDGAMHHHbinfe39b/5iS6P+tv8jhPC2sj/AISiO9lF2v8AwkHmGQTW0saIynMIVmUKcxZHyk8ik8O+Hrm8trK7s9P0+xaO9eV9Simb7RKiytuQqIwDkDbyxGK9AktLaWOJJbeJ0hYNGrICEI6EehHanQwQ20Qit4kijBJCRqFAycnge5pbNNdAevzPNZ5tUHw3v41srQ2P2ufM5u2EmPtTf8s/Lx1/2v8ACvTR90fSoDp9mbRrU2kBt2JZofLGwkncSVxjk8/WrFA+twooooAKKKKACiiigAooooAKKKKACiiigAooooAKKKKACiiigAooooAKKKKACiiigAooooAKKKKACiiigAooooAKKKKACiiigAooooAKKKKAI/tMH/PaP/voUfaYP+e0f/fQptVL/V9N0vZ/aeoWtn5mdn2iZY92OuMkZ60AXftMH/PaP/voUfaYP+e0f/fQqOORJY1kidXRhlWU5BHqDTqAHfaYP+e0f/fQo+0wf89o/wDvoU2igB32mD/ntH/30KPtMH/PaP8A76FNpg/4+H/3F/maAJftMH/PaP8A76FH2mD/AJ7R/wDfQptFADvtMH/PaP8A76FH2mD/AJ7R/wDfQptFADvtMH/PaP8A76FH2mD/AJ7R/wDfQptMmnit1DTypErMEBdgAWJwBz3JIAFAEv2mD/ntH/30KPtMH/PaP/voVDDcQ3BkEEiyeU5jfac7WHUH35qSgB32mD/ntH/30KPtMH/PaP8A76FRyyxwQvLM6xxxqWd3OAoHUk9hSqyugdGDKwyCDkEUAP8AtMH/AD2j/wC+hR9pg/57R/8AfQptMFxC1w8CyoZkUM0YYblU5wSOoBwfyNAHO3fj6C0vZ7f+wNem8mRk82GyDI+Djcp3cg9Qah/4WLB/0LXiP/wAH/xVdXTIZormFJreRJYnGUdGDKw9QR1rpVSjb4PxZlyz/m/A5f8A4WLB/wBC14j/APAAf/FUf8LFg/6FrxH/AOAA/wDiq6uij2lH+T8WHLP+b8DlP+Fiwf8AQteI/wDwAH/xVH/CxYP+ha8R/wDgAP8A4quroo9pR/k/Fhyz/m/A5T/hYsH/AELXiP8A8AB/8VR/wsWD/oWvEf8A4AD/AOKrq6KPaUf5PxYcs/5vwOU/4WLB/wBC14j/APAAf/FUf8LFg/6FrxH/AOAA/wDiq6uij2lH+T8WHLP+b8DlP+Fiwf8AQteI/wDwAH/xVH/CxYP+ha8R/wDgAP8A4quroo9pR/k/Fhyz/m/AwNL8bQanqUVn/Yus2fmZ/f3doI41wCeW3cZxj6kV0P2mD/ntH/30KiH/AB8P/uL/ADNPrGcoyfuqxcU0tXcd9pg/57R/99Cj7TB/z2j/AO+hUUM8VxHvt5UlTcV3IwYZBwRx3BBB+lBmiE4hMieaVLiPcNxUHBOPTkfnUFEv2mD/AJ7R/wDfQo+0wf8APaP/AL6FRTXENsge4lSJSwQM7BQWJwBz3JIAp9ADvtMH/PaP/voUfaYP+e0f/fQqGO4hlnlhjkVpIceYoPK5GRn8KWOaKbd5MiSbGKNtYHaw6g+9AEv2mD/ntH/30KPtMH/PaP8A76FNooAd9pg/57R/99Cj7TB/z2j/AO+hTaKAHfaYP+e0f/fQo+0wf89o/wDvoU2igB32mD/ntH/30KPtMH/PaP8A76FNooAd9pg/57R/99Cj7TB/z2j/AO+hTaKAHfaYP+e0f/fQo+0wf89o/wDvoU2igB32mD/ntH/30KPtMH/PaP8A76FNooAd9pg/57R/99Cj7TB/z2j/AO+hTaKAHfaYP+e0f/fQo+0wf89o/wDvoU2mD/j4f/cX+ZoAl+0wf89o/wDvoUfaYP8AntH/AN9Cm0UAO+0wf89o/wDvoUfaYP8AntH/AN9Cm0UAO+0wf89o/wDvoUfaYP8AntH/AN9Cm0UAO+0wf89o/wDvoUfaYP8AntH/AN9Cm1HJcQxTRQySKskxIjUnlsDJx+FAE32mD/ntH/30KPtMH/PaP/voVEZohOITInmlS4j3DcVBwTj05H50+gB32mD/AJ7R/wDfQo+0wf8APaP/AL6FVpr60txJ59zEnlBTIC4ym44XI7ZPSp6AHfaYP+e0f/fQo+0wf89o/wDvoU2hmCqWYgKBkknpQA77TB/z2j/76FH2mD/ntH/30KihmjuIUmgkSWKRQyOjAqwPQgjqKfQA77TB/wA9o/8AvoUfaYP+e0f/AH0KbRQA77TB/wA9o/8AvoUfaYP+e0f/AH0KbRQA77TB/wA9o/8AvoUfaYP+e0f/AH0KbRQA77TB/wA9o/8AvoUfaYP+e0f/AH0KbRQA77TB/wA9o/8AvoUfaYP+e0f/AH0KiH/Hw/8AuL/M0+gB32mD/ntH/wB9Cj7TB/z2j/76FNooAd9pg/57R/8AfQo+0wf89o/++hTaKAHfaYP+e0f/AH0KPtMH/PaP/voU2igB32mD/ntH/wB9Cj7TB/z2j/76FQT3dvbf8fE8cXys4DsASFGWP4DrT45FljWSNgyOAysOhB70ASfaYP8AntH/AN9Cj7TB/wA9o/8AvoVFDPFcR77eVJU3FdyMGGQcEcdwQQfpT6AHfaYP+e0f/fQo+0wf89o/++hTaKAHfaYP+e0f/fQo+0wf89o/++hURuIRcLbmVBMyl1jLDcVBAJx1xkjn3qL+0LPzzD9qhEqyCIoXAO8ru249dvOPSgC19pg/57R/99Cj7TB/z2j/AO+hTaKAHfaYP+e0f/fQo+0wf89o/wDvoU2mQzRXMKTW8iSxOMo6MGVh6gjrQBL9pg/57R/99Cj7TB/z2j/76FNooAd9pg/57R/99Cj7TB/z2j/76FNooAd9pg/57R/99Cj7TB/z2j/76FNpg/4+H/3F/maAJftMH/PaP/voUfaYP+e0f/fQptFADvtMH/PaP/voUfaYP+e0f/fQptFADvtMH/PaP/voUfaYP+e0f/fQptFADvtMH/PaP/voUfaYP+e0f/fQptQG/tFsWvftMRtVUs0wcFAB1OR9KALP2mD/AJ7R/wDfQo+0wf8APaP/AL6FQxXEM7SLDNHI0TbZAjAlDgHB9Dgg/jUlADvtMH/PaP8A76FH2mD/AJ7R/wDfQptMkniikjSWVEeVtsaswBc4JwPU4BP4GgCX7TB/z2j/AO+hR9pg/wCe0f8A30KbRQA77TB/z2j/AO+hR9pg/wCe0f8A30KbRQA77TB/z2j/AO+hR9pg/wCe0f8A30KbTJZ4oNnnSpH5jhE3sBuY9AM9T7UAS/aYP+e0f/fQo+0wf89o/wDvoU2igB32mD/ntH/30KPtMH/PaP8A76FNooAd9pg/57R/99Cj7TB/z2j/AO+hTaKAHfaYP+e0f/fQo+0wf89o/wDvoVEP+Ph/9xf5mn0AFcr4iS/fxdpX9kvbJcizuiv2mIyI3MfGAy4zxzn8K6qik1cadjzm1uobfSLOOTULqythYPJB5chjLXnmNvjwvUqcAR8jrwcVYu9S1m0vT50lwhghi1a5UEldgQJJCB2BIZsetd9RT/r+vw+4XX+v6/4czvD4uP8AhH7N713e4kjEshdixBb5sZPpnH4Vo0UU3uAUwf8AHw/+4v8AM1kajqPn7oLdpRbiQwu8BxJcSc5hhORzwdz5AQBuQQzR6NnH5MaR+TFBshRfKhOUjxn5V4HA6DgfQUgLNed22p3v7prS+uZ9Ya2vGubNpmZUmUfIvlnhcdhxkc89a9Eqjb6NZW1+97FG5uGBAeSZ5NgJyQoYkKDgZC46UmrjTscLBfag9iGj1TMMl3ZRuIL+S4dHaXEmWZF2ZBAKDpjoM1Jd39/ahrT7U/8AZ8OozwvPc6hJBtARTGrTgMwGWbGeuAM9j6JRT/r8v8vxF/X5/wCZwdhdXqTajc6le3t01jpMEvl2krbZGYS5YKQMkgDkgc844FZklwt/pd4Lq8drO1v7GZXi1SWZY0aQb2807SRwT3CkZBGOPT6Kd/ev/W9xf1+Fjh5r9vtjJqWo3Ftpf9oXCSTrcMm0hE8tPMByq8seoyQB3qhPd6nPY3ktzfX0Mlton2qLbK0RLrJLsdlGOSoXIPB7ivR6Km2iX9bWKjp/Xnf/AIBja+5k8D6k7/ebTpSfr5ZrkW1CS3tSdL1K6ls4EspLuQzswgfzl8xcn7o2Z3L0A7DNdumgaPHqP2+PS7NbzcX+0LAok3Hqd2M55rQqk7S5hfZ5f66f5HA/2v8Aarq7e41SePR21Z0kuY52RUT7OhQCQHKIWOcggEn35qPd3MPigTLdXD6X9ktPtl2SY5/L8yXYT3Ck43Hg457mvSaKE7W+X5A9bnCWtzqV94qlt7q7WFjdTRyQC/lEjW21gm2FUwv8LCQNnPftWdBcpY+EdHEOpSokdtIJLcXskLmYEcI/IZ1OQIW4OenFemUVOw7jIWL28bHcCVBO8Ybp3HrXH/EbwVqvi7S4v+Ec8Tal4f1KBvkktruWOKRSeQ6IwyfQ9e3SuzopiMvw5oh8PaDb6c2oX2pSRL+8u7+4aaWVu5JYnA9AOBWpRRQAUUUUAFFFFABRRWLqOo+fugt2lFuJDC7wHElxJzmGE5HPB3PkBAG5BDNGAa4/4+H/ANxf5mnsNylTnBGODj9arWcfkxpH5MUGyFF8qE5SPGflXgcDoOB9BVmgDznTXtrG0htbrUbmz08Xt8LqT7ZIrJKJT5SM+7K5UlsZG44JznmzbzNDqGnalqr3n2xtInZVWV1eYqQQBHnaXKfNtx15xxx3tFD11/rZoP6/G55gupSXcN1CLjzbZbrTZYl+3Pd7S1xhvncAg/KMqMgHpXZeMJJo9Dj+zXE1u73ttGZIXKsA0yA8/Qmt0jIwelULHQdI0y4M+naXZ2kzKVMkECoxHpkD2qrrT1v+X+QjmdSuJrOe8tnvrqKwiu7WKecztuihMXJ35yuW25bOeSc1ltezwWsa2t1jTJL678y5mvntgWBHl5mVWPOSR/ewMk9/SaKhL+vu/wAiv6/P/M4TT31KaHV5bzV7hbm3sYAske9okZostII8Annnp74FbXhC7+02l0FlkmSOYBX+1m6iPygny5WAYjPUHociuhop9SbaFfUbJNS02ezkmuIFnQoZbaZopEz3V1IIPvXE/D/4e6x4V1K9vPEPjHWPEDM7JaRXN7K0ccXYsjMQX9+g7V31FAwooooAKKKKACiiigAooooAKKKKACiiigApg/4+H/3F/mayNR1Hz90Fu0otxIYXeA4kuJOcwwnI54O58gIA3IIZo9Gzj8mNI/Jig2QovlQnKR4z8q8DgdBwPoKALNeeWuoXWrazcWun3k9ubqzuSFa/eSSOZGXaWQgCIjP3VPIPNeh0UdRnnk+r6jeaXBqplkgsb+8IkE109qsMaR7QDIqkxgyKxyAM8DPNWLC4vjqHm39/d3AtNHFwI7OZisp8yQA4IG9toAyQMnBx0ru6KH/X3W/4ILT+vO//AADzW11m5eHUEjvZEsQ1m8kkV+9y0Mbu4lbzWAK8KMgcLzgjs+41O5VSttftLpX2+VGuZ9RkhUARRmNfPCswGSxHqQOeefQrq2jvLdoJ9+xuuyRkb8GUgj8DTLGwttNtvIs4yibixLOXZmPUlmJJPuTR1f8AXb/Ikg0NrltBs2vplnuDCu+Vc4c468gH9B9K5TR575LPRp0vbu4nujdMyzTswYqrbRg8YGBXVT6Bo91fi9udLs5rsEMJ5IFZ8jodxGeMCtClJXC2x5kt9MIRc6Pe3F7qH9kk3BllZ2ikMsfmdQdhA3fKBxgfL69Z4Qmmmtbtnu4bm384eR5V490EG0ZHmuqluee+M4z2roap6hpGm6sIxqlhbXgjzs+0Qq+3PXGRx0FVf+vncLf18rHJ6sEsfEGuSwXM8V3JBaOi/an5Uy4Yhd2MDgcDjJHGTmGM3M99A76jfj7RrlzZuq3ThfJAkIUDPGCowRyOxFd1Bbw2tukFtEkMMahUjjUKqj0AHSpKm2v9dyulv62f/Dnm1xqep/Y7OKW9Mdspu4lubi/e3zIk5SMNIqMXYKOFP3uc5ru8zHw9m6ZXnNr+8ZQQC2zkgEA9far1UDoGkHUft50uzN5u3/aPIXzN3ruxnND1TXcWzujg7Ga903Q9PjsLq78u40W3mmHmM/lDfGrsgP3cIzdPTPWtA6m1u8c9pqU0miQapCBdyXDOvlmJt4MhPzIHK8kkZOO3Hd0VTd3fz/W//AEtFb+trf8ABOA0S7udT8RQh9RvDABfyqqTNh9lyoTI7gA4A9OOnFaXg68ea8nhkvZb11hVpJluWljL5Oco4Bhf1jHAFdbRSWiSG9W2NkjEsTxsWCupUlWKnn0I5B9xXnnhj4Z6vonja61XUvG2u6ppaNusNPuNRmYLnr5uWw4HQDv1Nei0UAFFFFABRRWLqOo+fugt2lFuJDC7wHElxJzmGE5HPB3PkBAG5BDNGAa4/wCPh/8AcX+Zp9VrOPyY0j8mKDZCi+VCcpHjPyrwOB0HA+gqzQB55a6hdatrNxa6feT25urO5IVr95JI5kZdpZCAIiM/dU8g80T6vqN5pcGqmWSCxv7wiQTXT2qwxpHtAMiqTGDIrHIAzwM816HRR0t/W4+pwlhcXx1Dzb+/u7gWmji4EdnMxWU+ZIAcEDe20AZIGTg46VQtdZuXh1BI72RLENZvJJFfvctDG7uJW81gCvCjIHC84I7elVFdW0d5btBPv2N12SMjfgykEfgaP6/G/wDwBPX+vJHntxqdyqlba/aXSvt8qNcz6jJCoAijMa+eFZgMliPUgc889xobXLaDZtezLPcGFd8q5w5x15AP6Cp7GwttNtvIs4yibixLOXZmPUlmJJPuTVefQNHur8XtzpdnNdghhPJArPkdDuIzxgUdLC/r8Th4rwyPBO2oXD6otpetdxNMx+zyBRgAfwY7AYyOeetX2vpV16yWa/uJWlFuqwRXLxyIGUbj5RG2VCTlnzlecHiu5opJWd/Qb1/E84t7i307w+LKOa4Ej6jdq5k1OWBY2EjFVaQbmDFSpCj7xOTnPMJ1PULnRbu/fUbsTWuh2l2nlzsqmXMmWKjAOccg8HuOBXptFUn3D+vxONgvpH1i58zULpdXW5lWKwDMY2hCnZmPoFIwd/XPGe1Hgm7v7u6Zrq8jlzbKbmH7ZJO6TZGSysiiE9QUB+g712VQXthaalbG31C1huoSQTHNGHUkdDg0loD1OO8YzXsHiqzkst4jXT5jdPCSJUg82LeY/wDax+mcc4qO5u5LjW4TbztcRx6yn2bdIXG02RIwSehJz+NdpZafZ6bb/Z9OtYbWHJby4Iwi5PfAqxR0t/W9x31b/rax5tLql2ugXUljqV5Lcf2PNLqJaZiba5AXbjn902S/yjHAzjvVq9+02lzq/k6lqGLK3tbqENdOwDuzB85PKkKPlPyjnAFd/RTuS1pY4SO41K98WzWtzdrA32uSMwfb5Ud7baQNsKpgdm8wMDnv2qt4ZDM2hWtpeXWyHS5pZIFunIMySRjawJ7EkbeMdOnFeiUUlp/Xl/TKvueb6Zf6rPp1xJPqsdvJ9kBux9qmneKbeuSyeWPIGNwIU8DkdM11nhK6+1aVKVeWREnZVdrk3KMMA/u5SAXXnqec5HatyimSV9Rsk1LTZ7OSa4gWdChltpmikTPdXUgg+9cT8P8A4e6x4V1K9vPEPjHWPEDM7JaRXN7K0ccXYsjMQX9+g7V31FIYUwf8fD/7i/zNZGo6j5+6C3aUW4kMLvAcSXEnOYYTkc8Hc+QEAbkEM0ejZx+TGkfkxQbIUXyoTlI8Z+VeBwOg4H0FAFmvPLXULrVtZuLXT7ye3N1Z3JCtfvJJHMjLtLIQBERn7qnkHmvQ6KOozzyfV9RvNLg1UyyQWN/eESCa6e1WGNI9oBkVSYwZFY5AGeBnmrFhcXx1Dzb+/u7gWmji4EdnMxWU+ZIAcEDe20AZIGTg46V3dFD/AK+63/BBaf153/4B5ra6zcvDqCR3siWIazeSSK/e5aGN3cSt5rAFeFGQOF5wR2fcancqpW2v2l0r7fKjXM+oyQqAIozGvnhWYDJYj1IHPPPoV1bR3lu0E+/Y3XZIyN+DKQR+BpljYW2m23kWcZRNxYlnLszHqSzEkn3Jo6v+u3+RJBobXLaBZm+mWecwrvlXOHOOvIB/QfSvPNOv7628J6l9quJraRdOnfTfJlKqVDNvbjH7wHH0BGO9ehT6Bo91fi9udLs5rsEMJ5IFZ8jodxGeMCtCnf3rj2OAe48nWtSF3dy2enSaqBdzxymLaPsiFQXBBUFsc5HYd6ryXWo3NrdNPf30f2fSbi4t2SZoy+yVvKkYA8kqF69e4r0eik9f68rf8EFp/Xnc4C9u9UsobxLG6uJvMtbK4lM07Hy98jCVg2CUG0fwjC9QKZCvnT6FdX98JbdNVdLeWDUZpUVDC21TKQu87+ASDkHbk5Ir0KiqvrcVtLf1secC61CHw/pM8t9M9vdyTG6nutRkt1UqSI181VYoOvHGSACexsT395byaY19qjzzG3gxFb3Dwu7Fjl0UoFnyMZVgMAZwM139FStB9LGN4wuJrXwbqs9tK8Msds7JJGxDKcdQRXK3mpXcX20aNey3elCa3E1zLeOBETv80edhmQcR5wPl3Hp26yTwnoEqz50ezRrhWSV4oQjsG+98y4PP1rXAwMCgDhtEe9u/EGmQ3OpySwC2uZ0Ftdu6SBZowgZyqmTAJG7HI7nJzs+LohPDpMRZ0D6nCCyNtYdehHSt6WKOeF4Z0WSORSro4yGB4II7iqmn6LpelM7aXp1rZmQAObeFU3Y6ZwOaO3l/ncTWj8/8jj4r51SG21bUrq30uG8vIWuTcujZRwIkaXO7pu6nkgA5qjea5qFpo+pHUr64t7mbRo3tQzmNncNJllUYw+3YWx04zXpdFNOxV9b/ANb3Od8OebPrOuTz3VxL5V75McTykxovlRtwvQck/r6mugkjEsTxsWCupUlWKnn0I5B9xTqKOxKPOvDHwz1fRPG11qupeNtd1TS0bdYafcajMwXPXzcthwOgHfqa9ForF1HUfP3QW7Si3Ehhd4DiS4k5zDCcjng7nyAgDcghmjQzXH/Hw/8AuL/M0+q1nH5MaR+TFBshRfKhOUjxn5V4HA6DgfQVZoAZ5EP/ADyT/vkUeRD/AM8k/wC+RT6KAGeRD/zyT/vkUeRD/wA8k/75FPooAZ5EP/PJP++RR5EP/PJP++RT65bTLSK0+J2riDfiXS7WV98jOSxmuMnJJ9AMdAAAKFqx20b7f5pfqdN5EP8AzyT/AL5FJHBEbhwYkICrxtHqakoi/wCPiT/cX+bUCHfZoP8AnjH/AN8Cj7NB/wA8Y/8AvgVJXmGn61qfh7w5ZXlnqB1VJrG8ddN8tNsTQqzAoVG/qAjbi3LDG3pU31sNK7sel/ZoP+eMf/fAo+zQf88Y/wDvgVwd3rmr6TItkuuf2iLyK2k+3yRRD7H5s6xkgIApUhiU3A8ryWFTC/1qTUk0OPXJ/wB3qhtH1EQQmaRPsjS4I2eWHVschMYA461dv69CU0/6+Z232aD/AJ4x/wDfAo+zQf8APGP/AL4Fee2mv6/Y6bb6pc6jJqhka/tzZfZ4kVjbiYo6lVDb28kBsttO44C1DY694qns1Wea+tEvJbIxXd2tizr5swWQRrC7jyyp+UuCQc5Ldi15cvp+InJKLl2v+H/DnpH2aD/njH/3wKPs0H/PGP8A74FLEjRwojyNKyqAZHA3OcdTgAZPsAKfSKI/s0H/ADxj/wC+BR9mg/54x/8AfAqSigCP7NB/zxj/AO+BR9mg/wCeMf8A3wKkooAj+zQf88Y/++BR9mg/54x/98CpKKAI/s0H/PGP/vgUfZoP+eMf/fAqSigCP7NB/wA8Y/8AvgUfZoP+eMf/AHwKkooAj+zQf88Y/wDvgUfZoP8AnjH/AN8CpKKAI/s0H/PGP/vgUfZoP+eMf/fAqSigCP7NB/zxj/74FH2aD/njH/3wKkooAriCH7S48pMbF42j1NSfZoP+eMf/AHwKF/4+n/3F/m1SUAR/ZoP+eMf/AHwKPs0H/PGP/vgVzWiWkNl8QPECQbgrWdnIxeRnJYtPkksSew/Kq50TT7jxtHcaVbqb21uGn1DUzgyAMhC22/qR8wOzooAOMkGjqK+jZ1v2aD/njH/3wKPs0H/PGP8A74FcfoXh/TG16a50SDybKO3ltbm9jcrJqMzMu5mdSC5TaRvPO5mAIwc3/BMUdrpWoQxDZHHqt2qjOcASn1pX1t5X/FL9Sntfzt+D/wAjofs0H/PGP/vgUfZoP+eMf/fAryzw5EsMy3jrZ2EWpaZeSpqMcmZr0blPm3S4G1kB45fGWGU+6bukaJoeh2uo6NqlnokdnFb2t1NNpFiLYXaFnCRTICxkJK8c/Puxt7EWu/8AW/8AkDTX9en+Z6N9mg/54x/98Cj7NB/zxj/74FY/hLS20rRmjNqtjHNO80NimNtpGcbYwBwOBkgcAsQOK3KolEf2aD/njH/3wKPs0H/PGP8A74FSUUhkf2aD/njH/wB8Cj7NB/zxj/74FSUUAR/ZoP8AnjH/AN8Cj7NB/wA8Y/8AvgVJRQBH9mg/54x/98Cj7NB/zxj/AO+BUlFAEf2aD/njH/3wKPs0H/PGP/vgVJRQBH9mg/54x/8AfAo+zQf88Y/++BUlFAEf2aD/AJ4x/wDfAo+zQf8APGP/AL4FSUUAR/ZoP+eMf/fAqMQQ/aXHlJjYvG0epqxUa/8AH0/+4v8ANqAD7NB/zxj/AO+BR9mg/wCeMf8A3wKkrzzwpb2kF74fv4I449T1KO6bUpI8b7gr94yHqxV8AZ+7nAx0pX1A7/7NB/zxj/74FH2aD/njH/3wK5PX9F07UvEkK2tus+tGSGY3j8tp0CMCdjdU37SAo+8SxOQDSRaJp03jeO60m3U3VncPNqOpk5kcsjBbYuOWA3htp4UKvGSCGtQ0Ot+zQf8APGP/AL4FH2aD/njH/wB8CpKKAI/s0H/PGP8A74FH2aD/AJ4x/wDfAqSigCP7NB/zxj/74FH2aD/njH/3wKkooAj+zQf88Y/++BR9mg/54x/98CpKKAI/s0H/ADxj/wC+BR9mg/54x/8AfAqSigCP7NB/zxj/AO+BR9mg/wCeMf8A3wKkooAj+zQf88Y/++BR9mg/54x/98CpKKAI/s0H/PGP/vgUfZoP+eMf/fAqSigCP7NB/wA8Y/8AvgUfZoP+eMf/AHwKkooAj+zQf88Y/wDvgUfZoP8AnjH/AN8CpKKAK4gh+0uPKTGxeNo9TUn2aD/njH/3wKF/4+n/ANxf5tUlAEf2aD/njH/3wKPs0H/PGP8A74Fc1olpDZfEDxAkAYK1nZyMXkZyWLT5OWJPYflWP4gubqHxdf6pILC4g0VbZorS6iZ5CJMgtCdwWNySQG2sW27fl6k2aFfRs737NB/zxj/74FH2aD/njH/3wK5CTwv4fm+IltNY6FpsF1Yhr+7vIrONZXlk3LGC4XJz+8Y85+Vc9a7OjoPqR/ZoP+eMf/fAo+zQf88Y/wDvgVJRQBH9mg/54x/98Cj7NB/zxj/74FSUUAR/ZoP+eMf/AHwKPs0H/PGP/vgVJRQBH9mg/wCeMf8A3wKPs0H/ADxj/wC+BUlFAEf2aD/njH/3wKPs0H/PGP8A74FSUUAR/ZoP+eMf/fAo+zQf88Y/++BUlFAEf2aD/njH/wB8Cj7NB/zxj/74FSUUAR/ZoP8AnjH/AN8Cj7NB/wA8Y/8AvgVJRQBH9mg/54x/98Cj7NB/zxj/AO+BUlFAEf2aD/njH/3wKjEEP2lx5SY2LxtHqasVGv8Ax9P/ALi/zagA+zQf88Y/++BR9mg/54x/98CpK4zR/C/h+38eXF7omhaZp66XCYGmtLOOJpJ5AGYEqoJ2pt9v3h9KOodDr/s0H/PGP/vgUfZoP+eMf/fArgvGOlWn/CRXHiK4h0PUzptvbhrK/sRNOgEjkGJy2I2YtwdrbigH00ItE06bxvHdaTbqbqzuHm1HUycyOWRgtsWHLAbw208KFXjJBAgdjrfs0H/PGP8A74FH2aD/AJ4x/wDfAqSigCP7NB/zxj/74FH2aD/njH/3wKkooAj+zQf88Y/++BR9mg/54x/98CpKKAI/s0H/ADxj/wC+BR9mg/54x/8AfAqSigCP7NB/zxj/AO+BR9mg/wCeMf8A3wKkooAj+zQf88Y/++BR9mg/54x/98CpKKAI/s0H/PGP/vgUfZoP+eMf/fAqSigCP7NB/wA8Y/8AvgUfZoP+eMf/AHwKkooAj+zQf88Y/wDvgUfZoP8AnjH/AN8CpKKAI/s0H/PGP/vgUfZoP+eMf/fAqSigCuIIftLjykxsXjaPU1J9mg/54x/98Chf+Pp/9xf5tUlAENFM8lfV/wDv43+NHkr6v/38b/GgB9FM8lfV/wDv43+NHkr6v/38b/GgB9Ri2gW6a5WGMXDoI2lCDcygkhSeuAWJA9z60vkr6v8A9/G/xo8lfV/+/jf40APoi/4+JP8AcX+bUzyV9X/7+N/jSRwqbhxl/ur/AMtG9T70AWqoWehaTp15Ldafpdla3MyhJZoLdEd1HQFgMkexq35Cesn/AH8b/GjyE9ZP+/jf40AVLbQdIsrW4tbPSrK3t7olriKK3RUmJ6lgBhs981JaaRpthbW9vY6fa20FqSYIoYVRYSQQSoAwvBI49TU/kJ6yf9/G/wAaPIT1k/7+N/jQBHHYWcXl+VaQJ5TtJHtjA2M2dzD0J3Nk98n1qva6Bo9iJBZaTY2wlmE8ghtkTfIDkOcDlgec9aueQnrJ/wB/G/xo8hPWT/v43+NAWJKKj8hPWT/v43+NHkJ6yf8Afxv8aAJKKj8hPWT/AL+N/jR5Cesn/fxv8aAJKKj8hPWT/v43+NHkJ6yf9/G/xoAkoqPyE9ZP+/jf40eQnrJ/38b/ABoAkoqPyE9ZP+/jf40eQnrJ/wB/G/xoAkoqPyE9ZP8Av43+NHkJ6yf9/G/xoAkoqPyE9ZP+/jf40eQnrJ/38b/GgCSio/IT1k/7+N/jR5Cesn/fxv8AGgCSio/IT1k/7+N/jR5Cesn/AH8b/GgAX/j6f/cX+bVJVZYE+1PzJ9xf+Wjere9S+QnrJ/38b/GgCrqOjWWp2V9bXESqL+A29xJGoDvHgjaWx6M2PTJqmPBvhgaoNTHhzSf7QDiQXf2GPzg4/i37d2ffOa1vIT1k/wC/jf40eQnrJ/38b/GgOljK07wf4Z0i/F7pPh3SbG7AIFxbWMccgB6/Mqg81buNGsrgQqYVjSG6F3siUKHlBJ3Nxz8x3epIFWvIT1k/7+N/jR5Cesn/AH8b/GgN7+ZVtdF0qxvLm8stMs7e5uzm4nht1R5v99gMt+NVv+ET8Of2ZLpv9gaX9hnk82W1+xR+VI+c7mTGCc9yK0/IT1k/7+N/jR5Cesn/AH8b/GgCrpWh6ToNs9voel2emwO+9orO3SFWbGMkKACcAc+1Xqj8hPWT/v43+NHkJ6yf9/G/xoAkoqPyE9ZP+/jf40eQnrJ/38b/ABoAkoqPyE9ZP+/jf40eQnrJ/wB/G/xoAkoqPyE9ZP8Av43+NHkJ6yf9/G/xoAkoqPyE9ZP+/jf40eQnrJ/38b/GgCSio/IT1k/7+N/jR5Cesn/fxv8AGgCSio/IT1k/7+N/jR5Cesn/AH8b/GgCSio/IT1k/wC/jf40eQnrJ/38b/GgCSo1/wCPp/8AcX+bUeQnrJ/38b/GolgT7U/Mn3F/5aN6t70AWaox6HpMN1d3MOl2Uc98MXUq26BrgejnGW/HNWvIT1k/7+N/jR5Cesn/AH8b/GgDJvPBnhfUbxbvUPDekXVyqqqzT2MTuAvCgMVzgdvSlXwd4ZTVv7VTw7pK6j5pm+2CxiE28nO/ftzu985rV8hPWT/v43+NHkJ6yf8Afxv8aA8iSio/IT1k/wC/jf40eQnrJ/38b/GgCSio/IT1k/7+N/jR5Cesn/fxv8aAJKKj8hPWT/v43+NHkJ6yf9/G/wAaAJKKj8hPWT/v43+NHkJ6yf8Afxv8aAJKKj8hPWT/AL+N/jR5Cesn/fxv8aAJKKj8hPWT/v43+NHkJ6yf9/G/xoAkoqPyE9ZP+/jf40eQnrJ/38b/ABoAkoqPyE9ZP+/jf40eQnrJ/wB/G/xoAkoqPyE9ZP8Av43+NHkJ6yf9/G/xoAkoqPyE9ZP+/jf40eQnrJ/38b/GgAX/AI+n/wBxf5tUlVlgT7U/Mn3F/wCWjere9S+QnrJ/38b/ABoAY9lau8zvbQs1xGI5mMYJkQZwreo+ZuD6n1qGbRdLuLq1ubjTbOWey/49ZXgVmg/3CRlfwqz5Cesn/fxv8aPIT1k/7+N/jQARwQxSyyRRIjzENIyqAXIAAJPfgAfQVJUfkJ6yf9/G/wAaPIT1k/7+N/jQBJRUfkJ6yf8Afxv8aPIT1k/7+N/jQBJRUfkJ6yf9/G/xo8hPWT/v43+NAElFR+QnrJ/38b/GjyE9ZP8Av43+NAElFR+QnrJ/38b/ABo8hPWT/v43+NAElFR+QnrJ/wB/G/xo8hPWT/v43+NAElFR+QnrJ/38b/GjyE9ZP+/jf40ASUVH5Cesn/fxv8aPIT1k/wC/jf40ASUVH5Cesn/fxv8AGjyE9ZP+/jf40ASUVH5Cesn/AH8b/GjyE9ZP+/jf40ASVGv/AB9P/uL/ADajyE9ZP+/jf41EsCfan5k+4v8Ay0b1b3oAs1CLO2EMsIt4hFMWMqbBtkLfeLDvnvnrTvIT1k/7+N/jR5Cesn/fxv8AGgCrNoek3N3a3VxpdnLcWYxbTSW6M8A/2CRlfwqovg/wymr/ANqp4d0ldR80zfbBYxCbzCcl9+3duz3zmtXyE9ZP+/jf40eQnrJ/38b/ABoDpYkoqPyE9ZP+/jf40eQnrJ/38b/GgCSio/IT1k/7+N/jR5Cesn/fxv8AGgCSio/IT1k/7+N/jR5Cesn/AH8b/GgCSio/IT1k/wC/jf40eQnrJ/38b/GgCSio/IT1k/7+N/jR5Cesn/fxv8aAJKKj8hPWT/v43+NHkJ6yf9/G/wAaAJKKj8hPWT/v43+NHkJ6yf8Afxv8aAJKKj8hPWT/AL+N/jR5Cesn/fxv8aAJKKj8hPWT/v43+NHkJ6yf9/G/xoAkoqPyE9ZP+/jf40eQnrJ/38b/ABoAF/4+n/3F/m1SVDHGEupNpY5RfvMT3b1qagCGiiigAooooAK5Sxs5ofGSraalf3bxiR9TeW4doBu5iiWMkojDIPyAHavzZ3DPV1h6f4O0nS9Sa+sW1GOVpXmaM6rdNCzuSWJiaQockk/doW4PY3KIv+PiT/cX+bUURf8AHxJ/uL/NqAJq4FvG+q2dlbazfR2cml3lndXsdvDC6zxJFHvVSxYhmI6/KuOmD1rvq5LTvAsdr4km1K7uIp7ciZYLNI5AkYlxvyHldecdEVAckkE1Lu9hq3UzLDxnr96yWyWyCWaeFI7q50i7s4lEgfcm2bBkZNgOVIDZ6L1qa68Z6rpuhw3l1FYzyi+m0yUIDErzhisUi7mO1Mr8y5YgEnOFOeisvCuk6ft+zwztslWVDNdyy7CoIULvY7VAY4UfKM9Kc/hjR5C/m2QkDmcsjuzKTN/rDtJxk9M9gSBgE09bvt/w3/B++4v6/P8A4H5aGnCJRBGLhkaUKN7IpVS2OSAScDPbJp9MghS3t44Yt2yNQi7mLHAGBknJJ9zzT6p7iWwUUUUhhRRRQAUUUUAFFFFABRRRQAUUUUAFFFFABRRRQAUUUUARr/x9P/uL/NqkqNf+Pp/9xf5tUlAHJ6RZTW/i5ltdSv71YYXGpyz3DvC0zFSipGSVQgbiQmAAVznIrJjvL/8A4Tozl9SMB1NrcXn2k/YjGIyPs4h3cSb/AOPZjI+//DW2vgLTLS1u00i71WxluElUONWupEjaTO51jaUpuyxIOODzWgnhbSI9XXUlgkNwr+YAbmQxeZjHmeVu2b8fx7d3vSS2/rr/AF/V7j2f9dP6/q1uD/tTUtO8KW2uwX96b3VNGubu4inuHlVJQiMrIjErHt3EYUAHPIJrrfD8TaZ4o1LSIru7ubSOztrpPtdy9w6vI0yv87ktg+WpxnA5wBV228JaJaT3MsVlu+0o8bpLM8kao5y6IjMVjVjyQoAOOaZb+FLLT0iTS5bm3AuEmmd7mWaSZUztjLuxbZk/dzjGQAM1S/ry/wCGHLW9v6/rY5zTdP1K11qaHUZrqC51b7V9k1CHWp7lE+csB9mfEUZCEbSu4DaeneSKxvbnRNai0C9vXsZ3iispLzUpd0jBv3zxzktIqsDtUg9VJUYIzvHwXoRa7JtZsXkUkLr9rm2okn3xGN+It3fZtzSWngzR7OwmskF/NbTKqmO61S5uAm05Up5kjeWQcEFcEYHPAqelg638yPwa4jsb2wkguILqxuvKuY5tSmvwGMaOCs03zFSrrwQMHPFdFVLStIs9GtDb6fG6ozl3aWZ5ZJGPVmdyWY8AZJJwBV2qZIUUUUhhRRRQAUUUUAFFFFABRRRQAUUUUAFFFFABUa/8fT/7i/zapKjX/j6f/cX+bUASVwvhqW5+1aHqMl9eSS6zHO93DPcvJHkDcuxCdse3G35QMg85PNd1WPa+FdIsry4ura3ljlnV1P8ApMpWMOcv5alsRbjydgXJ560tb3Ay/ENlM2uWz2mpX51KaaM2tvDcOkMEKsvmtJGDscEZ5cE5ZQMHmrEf2iD4kCFr66mgn02SbyZH/dowlQDaoAHAJGTk89aluvBekXmqtqUjanHdNGkbPb6vdwh1T7oKpIAcZPUc5Oeta5sLY6muoGP/AEpITAsm48ISGIxnHVRz1px0afr+QpXasvL80WKKKKBhRRRQAUUUUAFFFFABRRRQAUUUUAFFFFABRRRQAUUUUAFFFFAEa/8AH0/+4v8ANqkqNf8Aj6f/AHF/m1SUAc3o32iHxxrlpNfXN1Etrayos7ghGZps7QAAOFUcDtzWXrWsX9v4qu7qSCSXSNGEJlEd+0BUuCWfy1X99gEfK7KuBkbjwOtOl2n2y6uhGyz3cSwzSLIylkXdtAwflI3tyMHn2FVLvwxpN9ewXd1byPNCqLn7RIFkCHKiRQ2JcHkbw2Cc0dV5C1szk7O9vW8dLMZNRMEmqTWxvTck2Ukao4FusO47ZFdeX2AEo3znO0+hVkp4X0iPWf7US2cXG8yhftEhiWQggyCLd5Yc5OWC7jk881rULSKQ3rJtBRRRQAUUUUAFFFFABRRRQAUUUUAFFFFABRRRQAUUUUAFFFFABUa/8fT/AO4v82qSo1/4+n/3F/m1AElchpeiW9t46f8As271ZoLG3P2lbnVrq5jeWT7q7ZJGX5VBbpn50rr6qxabawx3SQoyC7dpJmWRgzMwAJ3ZyDgADBGMDGMUdbh0scV4qvb2w16e4Y6wLiOa2Gmi2837I6M6LIsmP3ZYksP3nzYK7OansNXvz4rkvtQgkaxl1CTTbZ0v2AiK5AzbhdrAlD87MWBOAAvNdTNotjc3lrc3EcksloB5IkndkUjoxQnaWHZiCw9ai/4RvShrf9rfZm+17t/+ufy9+3b5nlbtm/bxv27scZpJWf8AX9bA9UalFFFMAooooAKKKKACiiigAooooAKKKKACiiigAooooAKKKKACiiigCNf+Pp/9xf5tUlRr/wAfT/7i/wA2qSgCt5bf89n/ACX/AAo8tv8Ans/5L/hT6KAGeW3/AD2f8l/wo8tv+ez/AJL/AIU+igBnlt/z2f8AJf8ACjy2/wCez/kv+FPrk7a91O28cRWFxqdxdLcLK80EtmIbeJRyghfYDI3IDDe+OSQvAo6gdT5bf89n/Jf8KSONjcP++cfKvOF9T7VJRF/x8Sf7i/zagB3lP/z3k/Jf8KPKf/nvJ+S/4VJXGDx+8UcN/f6bHBo9zb3F1Bdpd73MMSb9zR7AFLDkAM3HUg8Um0ldjSb2Ov8AKf8A57yfkv8AhR5T/wDPeT8l/wAK4fTPibHq7G302DTb+9MsKIljq6TxhZd+0u6r8rDYdy4OAeC1W7zxhrMXhw6lZ6JYSzw3Elrc2s2pvGfOV9ipCwgbzNzdMhOo98F/6+7/ADQv6/r7jrfKf/nvJ+S/4UeU/wDz3k/Jf8KLdpXtomuI1imZAZI1fcEbHIBwM4PfAqSnsC1I/Kf/AJ7yfkv+FHlP/wA95PyX/CpKKAI/Kf8A57yfkv8AhR5T/wDPeT8l/wAKkooAj8p/+e8n5L/hR5T/APPeT8l/wqSigCPyn/57yfkv+FHlP/z3k/Jf8KkooAj8p/8AnvJ+S/4UeU//AD3k/Jf8KkooAj8p/wDnvJ+S/wCFHlP/AM95PyX/AAqSigCPyn/57yfkv+FHlP8A895PyX/CpKKAI/Kf/nvJ+S/4UeU//PeT8l/wqSigCPyn/wCe8n5L/hR5T/8APeT8l/wqSigCssT/AGp/38n3F7L6t7VL5T/895PyX/Chf+Pp/wDcX+bVJQBH5T/895PyX/Cjyn/57yfkv+Fc/p+pXtv4n1y31e/jktLO1guUIiEawhjLu7k4wg5JPfpUXhbWNU1PxBrS6kQlsqW81nbGMK0Ebh+GPUsdoYg9M47cgro6Xyn/AOe8n5L/AIUeU/8Az3k/Jf8ACuRtPFFzL4wuJri5jh8PjTZZ4AUGW8uRVaYt1wckADjAB78N0e98R6y2uQz3q6e63cJhBhQvZwNEjlRkENJgnlsgEnqABSvon3/zt+g+rXb/ACv+p2HlP/z3k/Jf8KPKf/nvJ+S/4VkeE7q7vNIeS6u3vohO62t5JGqPcQjADsFAXk7sEAAjBA5rbpgR+U//AD3k/Jf8KPKf/nvJ+S/4VJRQBH5T/wDPeT8l/wAKPKf/AJ7yfkv+FSUUAR+U/wDz3k/Jf8KPKf8A57yfkv8AhUlFAEflP/z3k/Jf8KPKf/nvJ+S/4VJRQBH5T/8APeT8l/wo8p/+e8n5L/hUlFAEflP/AM95PyX/AAo8p/8AnvJ+S/4VJRQBH5T/APPeT8l/wo8p/wDnvJ+S/wCFSUUAR+U//PeT8l/wo8p/+e8n5L/hUlFAEflP/wA95PyX/Colif7U/wC/k+4vZfVvarNRr/x9P/uL/NqADyn/AOe8n5L/AIUeU/8Az3k/Jf8ACpK4zw9qmq3F1pN9d6i9zba0kz/ZHijVbXaNyCMqoY8Ag7i2TyMdKV9bAdf5T/8APeT8l/wo8p/+e8n5L/hXN+IJNYtNTgntNWaMy3EUNppscMbLcAkeaZCy7+F3HKsoAAznpUVzr2oT+PdLtLGVU0nzZ7af5ATcTLEznB7BCAOOrFh/Dy1qJux1PlP/AM95PyX/AAo8p/8AnvJ+S/4VJRQMj8p/+e8n5L/hR5T/APPeT8l/wqSigCPyn/57yfkv+FHlP/z3k/Jf8KkooAj8p/8AnvJ+S/4UeU//AD3k/Jf8KkooAj8p/wDnvJ+S/wCFHlP/AM95PyX/AAqSigCPyn/57yfkv+FHlP8A895PyX/CpKKAI/Kf/nvJ+S/4UeU//PeT8l/wqSigCPyn/wCe8n5L/hR5T/8APeT8l/wqSigCPyn/AOe8n5L/AIUeU/8Az3k/Jf8ACpKKAI/Kf/nvJ+S/4UeU/wDz3k/Jf8KkooArLE/2p/38n3F7L6t7VL5T/wDPeT8l/wAKF/4+n/3F/m1SUAR+U/8Az3k/Jf8ACjyn/wCe8n5L/hWHpF5qJ8X6xp9/eJcQwW9tNCqQiMR72lBHUk8IvUnv06VmeJb3V7PxKJ3utZs9CghhMk2nxWjRKxd95m85Wk242D92OAST6g6oV9G+x1/lP/z3k/Jf8KPKf/nvJ+S/4Vx9nq+qz6pFqP8AaLtZzaxNpp09oo/LRIzIgdWC795aMHliuCRtHWu0oWqv/Xf9SmrOz/rp+hH5T/8APeT8l/wo8p/+e8n5L/hUlFAiPyn/AOe8n5L/AIUeU/8Az3k/Jf8ACpKKAI/Kf/nvJ+S/4UeU/wDz3k/Jf8KkooAj8p/+e8n5L/hR5T/895PyX/CpKKAI/Kf/AJ7yfkv+FHlP/wA95PyX/CpKKAI/Kf8A57yfkv8AhR5T/wDPeT8l/wAKkooAj8p/+e8n5L/hR5T/APPeT8l/wqSigCPyn/57yfkv+FHlP/z3k/Jf8KkooAj8p/8AnvJ+S/4UeU//AD3k/Jf8KkooAj8p/wDnvJ+S/wCFRLE/2p/38n3F7L6t7VZqNf8Aj6f/AHF/m1AB5T/895PyX/Cjyn/57yfkv+FSVx/hnxNc6nqxbUlvreK+8z7AkkUS27qjH7pBMpfaMnfhTztBAzR1sHQ6zyn/AOe8n5L/AIUeU/8Az3k/Jf8ACuW8UX+p6Xq1nPBqlxGs1xFFDZpZg2zKXUSGeYodhwx2/OmSAAGPFQWer6rPqkWo/wBoObObWJ9NOntFH5aJGZEDqwXfvLRg8sVwSNo60L+vwX6jaaV/66v9Gdh5T/8APeT8l/wo8p/+e8n5L/hUlFAiPyn/AOe8n5L/AIUeU/8Az3k/Jf8ACpKKAI/Kf/nvJ+S/4UeU/wDz3k/Jf8KkooAj8p/+e8n5L/hR5T/895PyX/CpKKAI/Kf/AJ7yfkv+FHlP/wA95PyX/CpKKAI/Kf8A57yfkv8AhR5T/wDPeT8l/wAKkooAj8p/+e8n5L/hR5T/APPeT8l/wqSigCPyn/57yfkv+FHlP/z3k/Jf8KkooAj8p/8AnvJ+S/4UeU//AD3k/Jf8KkooAj8p/wDnvJ+S/wCFHlP/AM95PyX/AAqSigCGNSt1Jl2f5F+9jjlvQVNUa/8AH0/+4v8ANqkoAhopmJv76f8AfB/xoxN/fT/vg/40APopmJv76f8AfB/xoxN/fT/vg/40APrFtfDENvqyXsmoX10kDu9ra3Do0dszghipChzwxHzM2AcDFa+Jv76f98H/ABoxN/fT/vg/40APoi/4+JP9xf5tTMTf30/74P8AjSRiX7Q+HTO1f4D6n3oAtVw9j4IvG1uQarIjaHDFcQ2tl9p80bJgAy48pCgxngtIecAgDFdptn/56R/9+z/jRtn/AOekf/fs/wCNKye47tbGPa+GRD5P2vV9Sv8A7POk0P2l4/3e0MAvyouR8x5OWPGWOKqXvgiO4mgls9b1PTngu57xTbi3ceZLnJxLE44BYA4yAx5Oa6PbP/z0j/79n/GjbP8A89I/+/Z/xotrf+un+SF/X5/5sWCNoreOOSV52RQrSyABnIHU7QBk+wA9qfUe2f8A56R/9+z/AI0bZ/8AnpH/AN+z/jTAkoqPbP8A89I/+/Z/xo2z/wDPSP8A79n/ABoAkoqPbP8A89I/+/Z/xo2z/wDPSP8A79n/ABoAkoqPbP8A89I/+/Z/xo2z/wDPSP8A79n/ABoAkoqPbP8A89I/+/Z/xo2z/wDPSP8A79n/ABoAkoqPbP8A89I/+/Z/xo2z/wDPSP8A79n/ABoAkoqPbP8A89I/+/Z/xo2z/wDPSP8A79n/ABoAkoqPbP8A89I/+/Z/xo2z/wDPSP8A79n/ABoAkoqPbP8A89I/+/Z/xo2z/wDPSP8A79n/ABoAkoqPbP8A89I/+/Z/xo2z/wDPSP8A79n/ABoAF/4+n/3F/m1SVWVZ/tT/ALyP7i/8sz6t71Ltn/56R/8Afs/40AUX0Gxnv9QubqIXK6jbx21xbzqrxMib8DaRznzGznIPFY9t4C0nRNSlvfC1hY6TLdvClz5FrEi+SjEsigJ/H0PPoeorpts//PSP/v2f8aNs/wDz0j/79n/GjrcVlaxzUfw08Gw6r9ug8NaVETbvbtClhCsbqxBJKheTxj6Eiom+Gfh+G01SDRIf7C/tQx+dJpkEERCpj92AYyNjY+ZSCDk+tdVtn/56R/8Afs/40bZ/+ekf/fs/40D63KmkadcaZaNDdateaoS2Vku0hVkGANoEUaLjjuM89av1Htn/AOekf/fs/wCNG2f/AJ6R/wDfs/40ASUVHtn/AOekf/fs/wCNG2f/AJ6R/wDfs/40ASUVHtn/AOekf/fs/wCNG2f/AJ6R/wDfs/40ASUVHtn/AOekf/fs/wCNG2f/AJ6R/wDfs/40ASUVHtn/AOekf/fs/wCNG2f/AJ6R/wDfs/40ASUVHtn/AOekf/fs/wCNG2f/AJ6R/wDfs/40ASUVHtn/AOekf/fs/wCNG2f/AJ6R/wDfs/40ASUVHtn/AOekf/fs/wCNG2f/AJ6R/wDfs/40ASUVHtn/AOekf/fs/wCNG2f/AJ6R/wDfs/40ASVGv/H0/wDuL/NqNs//AD0j/wC/Z/xqJVn+1P8AvI/uL/yzPq3vQBZrAsfCNvYXhnh1C+ZY1kWzhdoyll5hy3l/Jk+28tgcDA4rb2z/APPSP/v2f8aNs/8Az0j/AO/Z/wAaAMC78Jz3Ovf2rB4m1i0m8lYfLiS1ZNo5OPMgYruPLYIzgegwSfD/AMLP4gtNaj0PT4L+2na486GziVpZGBG5225JBO4HOc81v7Z/+ekf/fs/40bZ/wDnpH/37P8AjQJq5JRUe2f/AJ6R/wDfs/40bZ/+ekf/AH7P+NAySio9s/8Az0j/AO/Z/wAaNs//AD0j/wC/Z/xoAkoqPbP/AM9I/wDv2f8AGjbP/wA9I/8Av2f8aAJKKj2z/wDPSP8A79n/ABo2z/8APSP/AL9n/GgCSio9s/8Az0j/AO/Z/wAaNs//AD0j/wC/Z/xoAkoqPbP/AM9I/wDv2f8AGjbP/wA9I/8Av2f8aAJKKj2z/wDPSP8A79n/ABo2z/8APSP/AL9n/GgCSio9s/8Az0j/AO/Z/wAaNs//AD0j/wC/Z/xoAkoqPbP/AM9I/wDv2f8AGjbP/wA9I/8Av2f8aAJKKj2z/wDPSP8A79n/ABo2z/8APSP/AL9n/GgAX/j6f/cX+bVJVZVn+1P+8j+4v/LM+re9S7Z/+ekf/fs/40AVBpESapfahFNNHcXsEcDMpUhAm/aygjr+8PXI4HFUtS8Lx6pOGuNT1BYHREurVHTyrsKcjeChK577CuRwcitjbP8A89I/+/Z/xo2z/wDPSP8A79n/ABoFYxo/ClrHrQvxeXjQrcNdR2BZPISdgQ0g+Xfk7m4LFcnOM81u1Htn/wCekf8A37P+NG2f/npH/wB+z/jR0sPrckoqPbP/AM9I/wDv2f8AGjbP/wA9I/8Av2f8aAJKKj2z/wDPSP8A79n/ABo2z/8APSP/AL9n/GgCSio9s/8Az0j/AO/Z/wAaNs//AD0j/wC/Z/xoAkoqPbP/AM9I/wDv2f8AGjbP/wA9I/8Av2f8aAJKKj2z/wDPSP8A79n/ABo2z/8APSP/AL9n/GgCSio9s/8Az0j/AO/Z/wAaNs//AD0j/wC/Z/xoAkoqPbP/AM9I/wDv2f8AGjbP/wA9I/8Av2f8aAJKKj2z/wDPSP8A79n/ABo2z/8APSP/AL9n/GgCSio9s/8Az0j/AO/Z/wAaNs//AD0j/wC/Z/xoAkqNf+Pp/wDcX+bUbZ/+ekf/AH7P+NRKs/2p/wB5H9xf+WZ9W96ALNYNr4StrO++0Q397sjEn2S3ZkMdm0mdzR/JnPJxvLAA4AA4ra2z/wDPSP8A79n/ABo2z/8APSP/AL9n/GgDGvvC0eoXgkuNU1D7O5ja4sw8flXLJjazZTcvQZCMoOOQaI/ClrHrQv8A7ZeNCtw11HYFk8hJ2BDSD5d+TubgsVyc4zzWztn/AOekf/fs/wCNG2f/AJ6R/wDfs/40dbh0sSUVHtn/AOekf/fs/wCNG2f/AJ6R/wDfs/40ASUVHtn/AOekf/fs/wCNG2f/AJ6R/wDfs/40ASUVHtn/AOekf/fs/wCNG2f/AJ6R/wDfs/40ASUVHtn/AOekf/fs/wCNG2f/AJ6R/wDfs/40ASUVHtn/AOekf/fs/wCNG2f/AJ6R/wDfs/40ASUVHtn/AOekf/fs/wCNG2f/AJ6R/wDfs/40ASUVHtn/AOekf/fs/wCNG2f/AJ6R/wDfs/40ASUVHtn/AOekf/fs/wCNG2f/AJ6R/wDfs/40ASUVHtn/AOekf/fs/wCNG2f/AJ6R/wDfs/40ASUVHtn/AOekf/fs/wCNG2f/AJ6R/wDfs/40AC/8fT/7i/zapKhjDi6k8xlb5FxtXHdvepqAIaKKKACiiigArml8TXM/xAg0a2hiOnG2uDJcHO9p42iyq9toEmCefmyONpz0tcpa/D7TLDxRY6xYXOoRC0ScfZpNQuZUZpWUkgNIVUZVsrjBJBPKihfFrsPSx1dEX/HxJ/uL/NqKIv8Aj4k/3F/m1AiauUj8eRzSQx2/h/WJmuo3ktAqQj7SEID7SZRt25H39uf4d1dXWDYeGfsU2jyfa9/9mQTQ48rHmeZt568Y2++c1Mua+gzPufGfmIs+mYeOWPTZUSe3KkJc3JiJJ3Z3YB42jBA5bOBNH4y8uzVptPub26aW5zDYIpMcMMzRmQ72A6BeASxOdqnoIo/AvlwRx/2jnZDp8WfI6/Zbhps/e/i3bfbGeelVNV+GtpqX2eWQaXdXEL3HOqaUt3HslmMpAQsCrAnAbOOuVPbSVrad/wBP8ypcvT+tF/wTUTxxYy3yxQ2d9Jam4jtjqARBAryIjR9W3EN5ijIUgHriov8AhOLeZZgljfWqlLn7PdTxIY5ZICwdQok3EjYSMhQR0apf+EPjWze2huVijOo216ipAFCCERARgAgAHyuowBnpxUc3g3zrG0tvt+Ps73j7vJ+99oEgxjdxt8z8cds1FT4Hy7/8Bfrcyi5c6vtp+f8AkWZvFMdpPaR3Gn3zwTeSj36xKsEckpARTl9xyWA+UMBkZIq9oWoS6pprXFwqK4uZ4sICBhJnQdT1woz71zGqfDhdT1m2vpLuzY28trNHJcaeJZ4WgZDtilLjy0YIcqBnLE57V1Wkab/ZVg1t5vm5nmm3bdv+skZ8Yyem7H4Vbtb5v7ug1si9RRRUjCiiigAooooAKKKKACiiigAooooAKKKKACiiigCNf+Pp/wDcX+bVJUa/8fT/AO4v82qSgDltK1/UZfGEmkXtxpdy3kvLNb2IYyafgrsWVi5DFwxI+VPunAI5DE8Q6tJq3nqLM6SdSbTRD5T+erDK+aX3bSN4xs29Od3anTaFrsE0mojUoNSu7K2mj0yN7bymLOBjz334cAqv3QnrgnFSxeFbpNWEjalH/ZovDf8A2NbbD+eQc/vd2Nm4ltu3Of4scUle6vt/wV+lxy2dv60/zsVkvfF1vr0ti93o+qmOye4MUFhJalHJ2xAu08gwxD/w9ENaOgahqc+o6jp+rS2d09kY/wDSbKFok3OCTGUZ3wyjac7uQ44FTLo91Bb6vJZ36x6jqDs0d08G9YPl2xjZu+YKADjIySx4zWdo2k+I9DtILR73S76Np08x4bCS3YKSTLI7NO5d29eOTk5HRrt/X9IT7/1/XYydO8daldTaiESx1Ce2tLi4bTbMMLiykjICQzEswLPzg4T7pwGHNW9B8S6vr2n3Y0q80bVpY3iEeo2aMLZN+S6lfMYs0YAJAcZ3D7tEXgGVrM2F7qwksYrKaxtBDaiOZUlxuMkhZhI3yjoqgnJINTS+Fdcls9SdPEFrBqd9HDB9og05kijhjZjjy/O3biHYFw4xxgDAoW39d/6/zG7X0/r+v6RreG9RvNR0+c6gbeWW3uXt/tFqhSKfbwXVSzFecrjceVPJrXrM0Gxv9N0xbXUriwm8rCwiwsmtY0QAALtaST35yPpWnTZKCiiikMKKKKACiiigAooooAKKKKACiiigAooooAKjX/j6f/cX+bVJUa/8fT/7i/zagCSuU0PxDqt9e2E16LNtP1ZZXtUhiZZYAnKh2LEPuXJ4VcHjnrXV1zOmeFbzTrqE/wBqRy2tgkq6bD9kKmHf/wA9G3/vNo4GAnHXJ5pa3Adrmp65p16txALFbATwwLbyRs012XYAlHDAJtyeCrZ2k8DmrMWq6gPGh0q5itltHs3uImjLNJ8sir8xOAM7ugBx6mqd/oPiK48Rxana63pixQxBIre60qSXymP33VluEwW6ZIOBwOpzrNpW7xNHq/nf6uze18rZ13Orbs5/2cYx3px3V/P8tPxFK9tPL81f8DRooooGFFFFABRRRQAUUUUAFFFFABRRRQAUUUUAFFFFABRRRQAUUUUARr/x9P8A7i/zapKjX/j6f/cX+bVJQBh6VquoXPibVdN1CK2jS1hgmi8hmY4kMgwxOM/6sHgDr361S1Hxctr4uTSfOjtoIfK+0zSWkswLSZ2pvTCQ9B87nBJwATWrHpEkOu6lqkNyokvLaGBEaLIjMZkIY8jcD5nTjp154ztU8K3OpXM+3U44rTUEjXUYPs24y7O8bb/3eRwch+AMYPNHVC1sylbeLryXxy2kNNp5H2l4Dpqq32yKJULC5Y7iDGxAAGwD5h8xPFdlXMweE7mHWkmOpRtp8V9JqCQfZf3/AJzhsgzb8FPnOBsBwAN2BiumoXwq/wDX9f12G/idv6/r+u4UUUUAFFFFABRRRQAUUUUAFFFFABRRRQAUUUUAFFFFABRRRQAVGv8Ax9P/ALi/zapKjX/j6f8A3F/m1AElcb4b8XXmr+JZbCebT5MecZbO3VhcadscKomJYglwcj5U6cbhzXZVy+meFL3TryFzqkEkFjHKligstrqZOplff+8554CZ6nJ5pdQLmp6rqFl4m0izWK2+w38zws5ZjLkQvJkDgDlAO+c9qWLVdQHjQ6VcxWy2j2b3ETRlmk+WRV+YnAGd3QA49TVi90l77UNIu5LgK+nTNMwWPiUtE8ZA5+X7+e/THvTm0rd4mj1fzvuWb2vlbOu51bdnP+zjGO9VpzL5/k7fjYl3s7eX5q/4XNGiiikUFFFFABRRRQAUUUUAFFFFABRRRQAUUUUAFFFFABRRRQAUUUUARr/x9P8A7i/zapKjX/j6f/cX+bVJQBWzN/cT/vs/4UZm/uJ/32f8KfRQAzM39xP++z/hRmb+4n/fZ/wp9FADMzf3E/77P+FGZv7if99n/Cn1zGleLJtW8VXelxJpAhtZJEcDVC15hTt3G38rhSwxnf059qOtg2VzpMzf3E/77P8AhSRmX7Q+ETO1f4z6n2qSiL/j4k/3F/m1ADt0/wDzzj/7+H/CjdP/AM84/wDv4f8ACpK5+TxlpT29+bK4DzWcDzfv4ZYo5FThmR9h3qDgFkDYyKOtgNzdP/zzj/7+H/CjdP8A884/+/h/wrHfxXY2sNxJqAki8q7a1jjgie4kmKqGJVEUseCScA4AyaSbxpoEM8URvjIZI4pQ8MEkiKkpIjdnVSqKSpG5iB70LXVf1cV0bO6f/nnH/wB/D/hRun/55x/9/D/hWP4f8UQeIL/WLWG1uoDpd39mZpreWMSfIrbgXRR1JGATwAejCtygZHun/wCecf8A38P+FG6f/nnH/wB/D/hUlFAEe6f/AJ5x/wDfw/4Ubp/+ecf/AH8P+FSUUAR7p/8AnnH/AN/D/hRun/55x/8Afw/4VJRQBHun/wCecf8A38P+FG6f/nnH/wB/D/hUlFAEe6f/AJ5x/wDfw/4Ubp/+ecf/AH8P+FSUUAR7p/8AnnH/AN/D/hRun/55x/8Afw/4VJRQBHun/wCecf8A38P+FG6f/nnH/wB/D/hUlFAEe6f/AJ5x/wDfw/4Ubp/+ecf/AH8P+FSUUAR7p/8AnnH/AN/D/hRun/55x/8Afw/4VJRQBWVp/tT/ALuP7i/8tD6t7VLun/55x/8Afw/4UL/x9P8A7i/zapKAI90//POP/v4f8KN0/wDzzj/7+H/CsFvFgPiy50W2sJbgW9lJcGeNx88iFMwqD1OJF5yBk49cT6Lrd7e6pd6bq2nxWV3bRRT4t7kzoUkLhQWKJh/kOVwRyME0LVXDv5f1+pr7p/8AnnH/AN/D/hRun/55x/8Afw/4VmaVrkuoaxqVhcWDWbWSxMC8qsXV92CQvA+76nrVTRvGFtqq6zPJD9lsdMlAW5eTIni8sP5oGOF5OOuQAe+KV0C12N7dP/zzj/7+H/CjdP8A884/+/h/wrK8La+/iTRTfyWL2DC5ngMEjhmXy5GTJwOCducds4yetbNVsHkR7p/+ecf/AH8P+FG6f/nnH/38P+FSUUgI90//ADzj/wC/h/wo3T/884/+/h/wqSigCPdP/wA84/8Av4f8KN0//POP/v4f8KkooAj3T/8APOP/AL+H/CjdP/zzj/7+H/CpKKAI90//ADzj/wC/h/wo3T/884/+/h/wqSigCPdP/wA84/8Av4f8KN0//POP/v4f8KkooAj3T/8APOP/AL+H/CjdP/zzj/7+H/CpKKAI90//ADzj/wC/h/wo3T/884/+/h/wqSigCPdP/wA84/8Av4f8KiVp/tT/ALuP7i/8tD6t7VZqNf8Aj6f/AHF/m1ABun/55x/9/D/hRun/AOecf/fw/wCFSVzej+KbjUtQtln01ILHUBI1hcpc+Y0gT/nom0BMjkYZuBzg8UdbAdBun/55x/8Afw/4Ubp/+ecf/fw/4Viav4g1DTL0sukLJpsUsUU1y9z5chaRlUeVHsIcAsM5Ze4AND+IL+38QWtne6SsNleXD21tP9p3TM6oz7miC4VCEOG3k8jKjPAtQNvdP/zzj/7+H/CjdP8A884/+/h/wqSigCPdP/zzj/7+H/CjdP8A884/+/h/wqSigCPdP/zzj/7+H/CjdP8A884/+/h/wqSigCPdP/zzj/7+H/CjdP8A884/+/h/wqSigCPdP/zzj/7+H/CjdP8A884/+/h/wqSigCPdP/zzj/7+H/CjdP8A884/+/h/wqSigCPdP/zzj/7+H/CjdP8A884/+/h/wqSigCPdP/zzj/7+H/CjdP8A884/+/h/wqSigCPdP/zzj/7+H/CjdP8A884/+/h/wqSigCPdP/zzj/7+H/CjdP8A884/+/h/wqSigCsrT/an/dx/cX/lofVvapd0/wDzzj/7+H/Chf8Aj6f/AHF/m1SUAR7p/wDnnH/38P8AhRun/wCecf8A38P+FZmma5Nf69qOm3GnvaNZxxSqzyqxkWQuAcLkD/Vnueo6Vm6v4umsfGEGg2sekeZJFFJnUNVNrJIXZxtijETmRgEJIyOoo8g6N9jpd0//ADzj/wC/h/wo3T/884/+/h/wrn4PFU82sLH/AGcn9lyXr2Ed4tzmTzk3bt0W3ATcjLneTnHygc10lG6uD0dmR7p/+ecf/fw/4Ubp/wDnnH/38P8AhUlFAEe6f/nnH/38P+FG6f8A55x/9/D/AIVJRQBHun/55x/9/D/hRun/AOecf/fw/wCFSUUAR7p/+ecf/fw/4Ubp/wDnnH/38P8AhUlFAEe6f/nnH/38P+FG6f8A55x/9/D/AIVJRQBHun/55x/9/D/hRun/AOecf/fw/wCFSUUAR7p/+ecf/fw/4Ubp/wDnnH/38P8AhUlFAEe6f/nnH/38P+FG6f8A55x/9/D/AIVJRQBHun/55x/9/D/hRun/AOecf/fw/wCFSUUAR7p/+ecf/fw/4VErT/an/dx/cX/lofVvarNRr/x9P/uL/NqADdP/AM84/wDv4f8ACjdP/wA84/8Av4f8KkrA0LxXba/q17a2clmY7XICi8Vrg4YruaED5EOPlYnJ9BR1sBt7p/8AnnH/AN/D/hRun/55x/8Afw/4Viazr9/pN6rHSkfTFlhhluXutshaRwo8uMKd4BYZyynrgGoYfFc8viAWZ05FsXvXsI7j7T++MyIXOYtvCYU4bcT0O3BzQtXZf1/Vw2Vzod0//POP/v4f8KN0/wDzzj/7+H/CpKKAI90//POP/v4f8KN0/wDzzj/7+H/CpKKAI90//POP/v4f8KN0/wDzzj/7+H/CpKKAI90//POP/v4f8KN0/wDzzj/7+H/CpKKAI90//POP/v4f8KN0/wDzzj/7+H/CpKKAI90//POP/v4f8KN0/wDzzj/7+H/CpKKAI90//POP/v4f8KN0/wDzzj/7+H/CpKKAI90//POP/v4f8KN0/wDzzj/7+H/CpKKAI90//POP/v4f8KN0/wDzzj/7+H/CpKKAI90//POP/v4f8KN0/wDzzj/7+H/CpKKAIYy5upPMVV+RcbWz3b2qao1/4+n/ANxf5tUlAENFM8xv+eL/AJr/AI0eY3/PF/zX/GgB9FM8xv8Ani/5r/jR5jf88X/Nf8aAH1zZ0jWLvxFZS3q6fHZafdS3MM8DsJpt6OgRk24UAPksHbcVBwO3Q+Y3/PF/zX/GjzG/54v+a/40LRh0sPoi/wCPiT/cX+bUzzG/54v+a/40kcjfaH/cuflXjK+p96ALVcKPCOtvDq9vusrO3u7OaBIYLuZ4ZpXIKy+U4xb4+bKoWzvyTwK7bzX/AOeEn5r/AI0ea/8Azwk/Nf8AGhaO4HFaz4Jvby4F7A4knivJ5UgTVLmxDxyqg5lh+YEFAcYYHn6iRvBNzHoOqafaNbxC70+3tYVaaRwjIXLZZ9zEfOMEkk967HzX/wCeEn5r/jR5r/8APCT81/xoWisTKKlv5/iZejaZd6dq+tyTeS1tfXS3MDpIS+fKRGVl24GPLBBDHOegxzsVH5r/APPCT81/xo81/wDnhJ+a/wCNBRJRUfmv/wA8JPzX/GjzX/54Sfmv+NAElFR+a/8Azwk/Nf8AGjzX/wCeEn5r/jQBJRUfmv8A88JPzX/GjzX/AOeEn5r/AI0ASUVH5r/88JPzX/GjzX/54Sfmv+NAElFR+a//ADwk/Nf8aPNf/nhJ+a/40ASUVH5r/wDPCT81/wAaPNf/AJ4Sfmv+NAElFR+a/wDzwk/Nf8aPNf8A54Sfmv8AjQBJRUfmv/zwk/Nf8aPNf/nhJ+a/40ASUVH5r/8APCT81/xo81/+eEn5r/jQAL/x9P8A7i/zapKrLK/2p/3En3F7r6t71L5r/wDPCT81/wAaAOLsfAep6T4ht76w8T308MFlcxKl7Fbt+9ldWBISFCy7gWJ3BiQOcE5saRpmqaHqFzff2Tp9s2oTwxSWWlysYi29jJdOTGuHKtyMc7QCxJGOs81/+eEn5r/jR5r/APPCT81/xpp2t5f53E9b+ZhXPhuW+v8AXzLeSW0GrWsNustqwE0e0OGPzKVH3xjr3rHtfh7erJqsd34p1RoLqe3lhdI7QOvlKoG5fs4TqoGMEYA75rtfNf8A54Sfmv8AjR5r/wDPCT81/wAam2txrRWMLwb4evfDml3dtqOpy6jJPf3FyryCMbVkkZh9yNBk5yeMbiccYFdDUfmv/wA8JPzX/GjzX/54Sfmv+NMHq2ySio/Nf/nhJ+a/40ea/wDzwk/Nf8aAJKKj81/+eEn5r/jR5r/88JPzX/GgCSio/Nf/AJ4Sfmv+NHmv/wA8JPzX/GgCSio/Nf8A54Sfmv8AjR5r/wDPCT81/wAaAJKKj81/+eEn5r/jR5r/APPCT81/xoAkoqPzX/54Sfmv+NHmv/zwk/Nf8aAJKKj81/8AnhJ+a/40ea//ADwk/Nf8aAJKKj81/wDnhJ+a/wCNHmv/AM8JPzX/ABoAkqNf+Pp/9xf5tR5r/wDPCT81/wAaiWV/tT/uJPuL3X1b3oAs1yOkeHtZ0+ezhm+wmz0iOZbIpM++5LDC+YCmI8DIOC+Sc8dK6rzX/wCeEn5r/jR5r/8APCT81/xpWA5jVbTxRc+I7a4j07SLvTrZVeGKbU5YWWb+JyogcPjovIxyepGFbw/qdx4yt9TuLfS4hbSMRqNuWF1PCQ4W3ddmNgLg53kErnaCcjpvNf8A54Sfmv8AjR5r/wDPCT81/wAaa0AkoqPzX/54Sfmv+NHmv/zwk/Nf8aAJKKj81/8AnhJ+a/40ea//ADwk/Nf8aAJKKj81/wDnhJ+a/wCNHmv/AM8JPzX/ABoAkoqPzX/54Sfmv+NHmv8A88JPzX/GgCSio/Nf/nhJ+a/40ea//PCT81/xoAkoqPzX/wCeEn5r/jR5r/8APCT81/xoAkoqPzX/AOeEn5r/AI0ea/8Azwk/Nf8AGgCSio/Nf/nhJ+a/40ea/wDzwk/Nf8aAJKKj81/+eEn5r/jR5r/88JPzX/GgCSio/Nf/AJ4Sfmv+NHmv/wA8JPzX/GgAX/j6f/cX+bVJVZZX+1P+4k+4vdfVvepfNf8A54Sfmv8AjQBlw6ZdW/ibVdUj8l1urSCKGNnIO+Myk7jg4B3ryM9+PWj4g0rW9XjksoY9NFnexRpPM8jia2IOSUAQiT/ZyU2kZ56V0Xmv/wA8JPzX/GjzX/54Sfmv+NAraWOWtfDeqQatHBmzGkw6lLqSzCRzO7Sb2MZQrtADyE7tx4GNo611tR+a/wDzwk/Nf8aPNf8A54Sfmv8AjQtFYb1d3/XUkoqPzX/54Sfmv+NHmv8A88JPzX/GgCSio/Nf/nhJ+a/40ea//PCT81/xoAkoqPzX/wCeEn5r/jR5r/8APCT81/xoAkoqPzX/AOeEn5r/AI0ea/8Azwk/Nf8AGgCSio/Nf/nhJ+a/40ea/wDzwk/Nf8aAJKKj81/+eEn5r/jR5r/88JPzX/GgCSio/Nf/AJ4Sfmv+NHmv/wA8JPzX/GgCSio/Nf8A54Sfmv8AjR5r/wDPCT81/wAaAJKKj81/+eEn5r/jR5r/APPCT81/xoAkqNf+Pp/9xf5tR5r/APPCT81/xqJZX+1P+4k+4vdfVvegCzXH6X4Z1TT76zXZYC00kXDWkkcjLJcmXOFkXZhAM8kFtxAOB0rrPNf/AJ4Sfmv+NHmv/wA8JPzX/GlYDl9e0DVdZ1S0kNtpW2F45Ib9mYXVgQVMixfId4bbjO5ODghhxUFt4RvofGQ1RoNNyLqSd9VDt9sliYNi2ZdmPLXKgHeR8gO0Hmuv81/+eEn5r/jR5r/88JPzX/Gns7/1/X9MNWrElFR+a/8Azwk/Nf8AGjzX/wCeEn5r/jQBJRUfmv8A88JPzX/GjzX/AOeEn5r/AI0ASUVH5r/88JPzX/GjzX/54Sfmv+NAElFR+a//ADwk/Nf8aPNf/nhJ+a/40ASUVH5r/wDPCT81/wAaPNf/AJ4Sfmv+NAElFR+a/wDzwk/Nf8aPNf8A54Sfmv8AjQBJRUfmv/zwk/Nf8aPNf/nhJ+a/40ASUVH5r/8APCT81/xo81/+eEn5r/jQBJRUfmv/AM8JPzX/ABo81/8AnhJ+a/40ASUVH5r/APPCT81/xo81/wDnhJ+a/wCNAAv/AB9P/uL/ADapKhjYtdSZRk+RfvY55b0NTUAQ0UUUAFFFFABWfZaxHqGoXFva21w8NuzI94QoiMinDIMncSDnJC7cgjORitCuD0Xwvdad4ot5IdJW1eC7uZ7rVleM/bYZDIUh+8ZDhnQ4YBRs+Umhbg9jvKIv+PiT/cX+bUURf8fEn+4v82oAmrK0vxT4f1y5kttE13TdRniXdJFaXkcrIM4yQpJAzxWrXE6Pqt9ZXmo6t4n8N6zaTTHaJliju1jiDYjijS3eSU9SxOwDJbJACijqHQ6jUdb0rR9n9ranZ2Pmfc+1XCR7uQONxGeSB+IqJvEOmPDePZXtrevYsEuIoLmMtExPRssAp9mIrFkUeJNUOpWNlcm3Gl3Vnm9s5LZ/MdoyF2TKrYIU84xx1qifDGoJolpbw2KrLHoUNm6q6DEish2de2G56fnQvP8Arf8AyX3r5w5O7t/W3+b+5/Lr01jTJdVl0yPUbR9QhTfJaLOplRf7xTOQPfFV4/Eel3dqbjS7611GNbhLZ2tbqJgjswXBO4DIz93qegBOBXN/2NqZ8R3Kx6PJ9hZ7iR1uZ4Xt5DIrDdE4HnxyMSAwI2gFsZ4zBp2ia09vIsun3EMSXNh5IvmtjcBIZtzjfCcNEq4K7jvyXz1FEdWr+X56/wBfkW9L/wBf1/W52Nprmk395JaWOp2dzcxIJJIYbhHdFPRioOQD60adrmk6uzrpOqWd8Y/vi2uEk28kc7Sccgj6iuMuPCWoyaDYWkMa2LppV/bTTBlHkyTBdpODzkgkkZ6VJ4J1WHX/ABZe39jZR29vb6bBZs0U8Uy+YskmVDRMy8A9CdwB5Vcipg3K39dH/wAMOStG/wDXT/P8DtRqNkyxst5blZQzRkSrhwv3iOecd/SqUfibSLi2trjT76DULe4ufsyzWcySor4JOWBxxjnvXOyeGtTjm14Q21tNCsEyaVHPh1cznzJgynjG8AAHjHtVPSPD+vPezXF/FfETX9vOG1BrUSqiwujbhb4Tg46ZOCOTjhSbsmvL8/8AL7hd/n+R3aahZyGIR3cDmaIzxhZAd8YxlxzyvzDnpyPWm6dqmn6va/adJvra+t9xTzbaZZE3DqMqSMj0rzxvDXiHVtJi0+XTpNNa10CXTPPeeFlllLQ4K4LfIwjPLLnnlfXpfBmlXtm+oXmpf2qJ7oxqRqbWm8hAQCBbKEA5xkksQBnGAK1sun9av9NRa3/rt/mdRRRRUjCiiigAooooAKKKKACiiigAooooAjX/AI+n/wBxf5tUlRr/AMfT/wC4v82qSgDmk8ZPHqItdU8OatpgMEtx507W0i7IwCxxFM79wB8vUgVd0nxEmpXFxb3Gn3umT28azNFehAWiYsFcFHZcfK3BIYY5AyKjhtr2LUtX1ie0aacJ5FlbLIoLxIN3BJwC7k9SOAmcYrnbbTte8QaXfxXmnXWh6nfeW1zdahHBcwPGrf8AHsiQ3G7ZgsMkrncx6nFC/r+vz/zsN2/r+v69LnRad4u0zUvDd1rsfnxWNq8yu0seGIjJBYKMkg4yO5BHFQ/8Jjbx2NzLeabqFpdW7xR/YJVjM0hlbbFt2uUO48DLDGDnGDWRoemX9rp174f8ViK6OsXV4yfYYDCFiOSXOZXIB3DHOQWAPrVM+FdXudO1O8u47+6nvWtIzb3dzCLp4IXLkB4sRRyZdtpUgjAO8McgWqXov+D/AF+Aur9WdWniizHh+71W7gubQWRZLi1lVTNHIMfu8IWDMdy42kg7hg1oaXqEWraRZ6jbK6w3cCTxrIAGCsoYA4JGcH1riYPCviCfSYxYzxaVHDdTXEVlqsJvpW3IAplkSdcuG3kEu/3lycqMdN4NsNQ0vwVpFjrLRG9trSOKURJtVSFA243NkgYBIOCQSMZwGtm35frcnW6+f56f11NqiiikUFFFFABRRRQAUUUUAFFFFABRRRQAUUUUAFFFFABUa/8AH0/+4v8ANqkqNf8Aj6f/AHF/m1AElYemeK7bU9SW1SzvII5hIbS6mVBFdhDhimGLDGf4guRyMityuK0PTdXs5dMtLjSpI4NDimAuPOiIvCRtTywGyMjJO8Lg8DI5pdQOg1vxHZaDLp8V4JXk1C6S2hSJNxBZgu5ueFBIyfcDqQKLvxHZWniaw0JxK95fI7rsXKxqoJ+c54ztbHXO0+lcv4p8MeKNS1JdR0q/sAr3Nmy2tzp7PJbJHKrt84uFUjOWIC5bAAPANObwt4nh8bafqX9p6ddWn2+a4nP9nskscbRFFQsZyGwuFGFGD8xB5zS217v9LEybT08vzd/6+Z3dFFFIoKKKKACiiigAooooAKKKKACiiigAooooAKKKKACiiigAooooAjX/AI+n/wBxf5tUlRr/AMfT/wC4v82qSgDM07XrfUtVvbCGC5ils1jdzPEYw6uWAKg89UbqB7ZqtfeKbaw1U2b2d5LFG8cdxeRIphtnkICK+WDc5HKqwGQSQKLeyu7bxdrOpG3Z4JrK2SHay5kdDMWUAkYPzrycDnr1rJ8Q+G7rVtUjFkNQtob5oZL8CaEW/wC7ZT8w5kMm1do2EKeNxOKOqEtnc6KDWEutYmsba1uJUt8rNdgKIY3wD5eSwZmwQflBA6Eg8VoVwdv4Yubbxcs8GjrHN/aUl2+trInz27hiYD83mZy2Nu3Zxuzniu8pL4U2N/E0FFFFMAooooAKKKKACiiigAooooAKKKKACiiigAooooAKKKKACo1/4+n/ANxf5tUlRr/x9P8A7i/zagCSspPEdlJ4sbw9GJWvEtTcu4T92oDKNpbP3vnU49CCeozq1wWk+GfFGj+MLa/u76x1K0js7rz3gsDDLNJI6MFy1ww3EqMHG0BduBkEC+LXbX8hP4dN9PzOo1vxHZaDLp8V4JXk1C6S2hSJNxBZgu5ueFBIyfcDqQKrxeK7abXP7PWzvBEbhrVL4qnkPOqlmjGG35AVuSoXIxnPFc/4p8MeKNS1JdR0q/sAr3Nmy2tzp7PJbJHKrt84uFUjOWIC5bAAPANLaeH9Tj8bLeS6fceYL+W4kvvta/Y2hZWVVWDeSJtpQF9gJw3zkHBI+fn+n/B/pWG/Lsv1/wCB/Tud5RRRQAUUUUAFFFFABRRRQAUUUUAFFFFABRRRQAUUUUAFFFFABRRRQBGv/H0/+4v82qSo1/4+n/3F/m1SUAVvNH92T/v23+FHmj+7J/37b/CrNFAFbzR/dk/79t/hR5o/uyf9+2/wqzRQBW80f3ZP+/bf4UeaP7sn/ftv8Ks0UAVvNH92T/v23+FEcgWZ2KyYKqB+7b1Pt71ZooAj89PST/v23+FHnp6Sf9+2/wAKkooAj89PST/v23+FHnp6Sf8Aftv8KkooAj89PST/AL9t/hR56ekn/ftv8KkooAj89PST/v23+FHnp6Sf9+2/wqSigCPz09JP+/bf4UeenpJ/37b/AAqSigCPz09JP+/bf4UeenpJ/wB+2/wqSigCPz09JP8Av23+FHnp6Sf9+2/wqSigCPz09JP+/bf4UeenpJ/37b/CpKKAI/PT0k/79t/hR56ekn/ftv8ACpKKAI/PT0k/79t/hR56ekn/AH7b/CpKKAI/PT0k/wC/bf4UeenpJ/37b/CpKKAI/PT0k/79t/hR56ekn/ftv8KkooAriZftLnbJgooz5Tep9qk89PST/v23+FSUUAR+enpJ/wB+2/wo89PST/v23+FSUUAR+enpJ/37b/Cjz09JP+/bf4VJRQBH56ekn/ftv8KPPT0k/wC/bf4VJRQBH56ekn/ftv8ACjz09JP+/bf4VJRQBH56ekn/AH7b/Cjz09JP+/bf4VJRQBH56ekn/ftv8KPPT0k/79t/hUlFAEfnp6Sf9+2/wo89PST/AL9t/hUlFAEfnp6Sf9+2/wAKPPT0k/79t/hUlFAEfnp6Sf8Aftv8KPPT0k/79t/hUlFAEfnp6Sf9+2/wo89PST/v23+FSUUAR+enpJ/37b/Cjz09JP8Av23+FSUUAR+enpJ/37b/AAqMTL9pc7ZMFFGfKb1PtViigCPz09JP+/bf4UeenpJ/37b/AAqSigCPz09JP+/bf4UeenpJ/wB+2/wqSigCPz09JP8Av23+FHnp6Sf9+2/wqSigCPz09JP+/bf4UeenpJ/37b/CpKKAI/PT0k/79t/hR56ekn/ftv8ACpKKAI/PT0k/79t/hR56ekn/AH7b/CpKKAI/PT0k/wC/bf4UeenpJ/37b/CpKKAI/PT0k/79t/hR56ekn/ftv8KkooAj89PST/v23+FHnp6Sf9+2/wAKkooAj89PST/v23+FHnp6Sf8Aftv8KkooAj89PST/AL9t/hR56ekn/ftv8KkooAj89PST/v23+FHnp6Sf9+2/wqSigCuJl+0udsmCijPlN6n2qTz09JP+/bf4VJRQBH56ekn/AH7b/Cjz09JP+/bf4VJRQBH56ekn/ftv8KPPT0k/79t/hUlFAEfnp6Sf9+2/wo89PST/AL9t/hUlFAEfnp6Sf9+2/wAKPPT0k/79t/hUlFAEfnp6Sf8Aftv8KPPT0k/79t/hUlFAEfnp6Sf9+2/wo89PST/v23+FSUUAR+enpJ/37b/Cjz09JP8Av23+FSUUAR+enpJ/37b/AAo89PST/v23+FSUUAR+enpJ/wB+2/wo89PST/v23+FSUUAR+enpJ/37b/Cjz09JP+/bf4VJRQBH56ekn/ftv8KPPT0k/wC/bf4VJRQBH56ekn/ftv8ACoxMv2lztkwUUZ8pvU+1WKKAI/PT0k/79t/hR56ekn/ftv8ACpKKAI/PT0k/79t/hR56ekn/AH7b/CpKKAI/PT0k/wC/bf4UeenpJ/37b/CpKKAI/PT0k/79t/hR56ekn/ftv8KkooAj89PST/v23+FHnp6Sf9+2/wAKkooAj89PST/v23+FHnp6Sf8Aftv8KkooAj89PST/AL9t/hR56ekn/ftv8KkooAj89PST/v23+FHnp6Sf9+2/wqSigCPz09JP+/bf4UeenpJ/37b/AAqSigCPz09JP+/bf4UeenpJ/wB+2/wqSigCPz09JP8Av23+FHnp6Sf9+2/wqSigCPz09JP+/bf4UeenpJ/37b/CpKKAK4mX7S52yYKKM+U3qfapPPT0k/79t/hUlFAH/9k=)"
      ],
      "metadata": {
        "id": "oAXuJlzPYhEY"
      }
    }
  ]
}